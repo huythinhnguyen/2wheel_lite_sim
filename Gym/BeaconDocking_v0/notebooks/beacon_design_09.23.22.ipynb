{
 "cells": [
  {
   "cell_type": "code",
   "execution_count": null,
   "metadata": {},
   "outputs": [],
   "source": [
    "import numpy as np\n",
    "import os\n",
    "import pathlib\n",
    "import sys\n",
    "\n",
    "if pathlib.Path(os.getcwd()).parents[2] not in sys.path:\n",
    "    sys.path.append(str(pathlib.Path(os.getcwd()).parents[2]))"
   ]
  },
  {
   "cell_type": "code",
   "execution_count": null,
   "metadata": {},
   "outputs": [],
   "source": [
    "from Sensors.BatEcho.Spatializer import Render\n",
    "from Sensors.BatEcho import Setting as sensorconfig"
   ]
  },
  {
   "cell_type": "markdown",
   "metadata": {},
   "source": [
    "### Create beacon function\n",
    "Need to keep track of beacon center as well as the sub-component of the beacon"
   ]
  },
  {
   "cell_type": "code",
   "execution_count": null,
   "metadata": {},
   "outputs": [],
   "source": [
    "def beacon2objects(x, y, theta, d, mode='unicorn', bull_angle=np.pi/3):\n",
    "    objects = np.asarray([x, y, 2], dtype=np.float32).reshape(1,3)\n",
    "    # make horn:\n",
    "    if mode=='unicorn':\n",
    "        horn = np.asarray([x + d*np.cos(theta), y +d*np.sin(theta), 1], dtype=np.float32).reshape(1,3)\n",
    "    elif mode=='bull':\n",
    "        horn = np.asarray([[x + d*np.cos(theta+bull_angle/2), y + d*np.sin(theta+bull_angle/2), 1],\n",
    "                            [x + d*np.cos(theta-bull_angle/2), y + d*np.sin(theta-bull_angle/2), 1]], \n",
    "                            dtype=np.float32).reshape(2,3)\n",
    "    return np.vstack((objects, horn))"
   ]
  },
  {
   "cell_type": "code",
   "execution_count": null,
   "metadata": {},
   "outputs": [],
   "source": [
    "from matplotlib import pyplot as plt\n",
    "%matplotlib inline"
   ]
  },
  {
   "cell_type": "code",
   "execution_count": null,
   "metadata": {},
   "outputs": [],
   "source": [
    "bat_pose = np.asarray([0,0,np.pi/2])\n",
    "objects = beacon2objects(0,0.65,-np.pi/2,d=0.2)\n",
    "fig, ax = plt.subplots()\n",
    "ax.scatter(objects[objects[:,2]==2][:,0], objects[objects[:,2]==2][:,1], c='g', s=200)\n",
    "ax.scatter(objects[objects[:,2]==1][:,0], objects[objects[:,2]==1][:,1], c='k', s=20)\n",
    "#ax.quiver([bat_pose[0], bat_pose[1]], U=np.cos(bat_pose[2]), V=np.sin(bat_pose[2]),\n",
    "#          scale_unit='xy', scale=1)\n",
    "ax.set_xlim([-3,3])\n",
    "ax.set_ylim([-2,4])\n",
    "ax.set_aspect('equal')"
   ]
  },
  {
   "cell_type": "code",
   "execution_count": null,
   "metadata": {},
   "outputs": [],
   "source": [
    "render = Render()\n",
    "compressed = render.run(bat_pose, objects)\n",
    "envelope_L = render.cache['left_envelope']\n",
    "envelope_R = render.cache['right_envelope']\n",
    "pole_comp = render.run(bat_pose, objects[np.where(objects[:,2]==1)]) #np.zeros((1,3)))\n",
    "pole_envL = render.cache['left_envelope']\n",
    "pole_envR = render.cache['right_envelope']\n",
    "plant_comp = render.run(bat_pose, objects[np.where(objects[:,2]==2)])\n",
    "plant_envL = render.cache['left_envelope']\n",
    "plant_envR = render.cache['right_envelope']\n",
    "fig, ax = plt.subplots(3,2, figsize=(16,8), sharey=True)\n",
    "for label, data in zip(compressed.keys(), compressed.values()):\n",
    "    ax[0,0].step(sensorconfig.COMPRESSED_DISTANCE_ENCODING, data, alpha=0.8, label=label)\n",
    "ax[0,1].plot(sensorconfig.DISTANCE_ENCODING, envelope_L, alpha=0.8, label='L')\n",
    "ax[0,1].plot(sensorconfig.DISTANCE_ENCODING, envelope_R, alpha=0.8, label='R')\n",
    "ax[0,1].legend()\n",
    "\n",
    "for label, data in zip(pole_comp.keys(), pole_comp.values()):\n",
    "    ax[1,0].step(sensorconfig.COMPRESSED_DISTANCE_ENCODING, data, alpha=0.8, label=label)\n",
    "ax[1,1].plot(sensorconfig.DISTANCE_ENCODING, pole_envL, alpha=0.8, label='L')\n",
    "ax[1,1].plot(sensorconfig.DISTANCE_ENCODING, pole_envR, alpha=0.8, label='R')\n",
    "ax[1,1].legend()\n",
    "\n",
    "for label, data in zip(plant_comp.keys(), plant_comp.values()):\n",
    "    ax[2,0].step(sensorconfig.COMPRESSED_DISTANCE_ENCODING, data, alpha=0.8, label=label)\n",
    "ax[2,1].plot(sensorconfig.DISTANCE_ENCODING, plant_envL, alpha=0.8, label='L')\n",
    "ax[2,1].plot(sensorconfig.DISTANCE_ENCODING, plant_envR, alpha=0.8, label='R')\n",
    "ax[2,1].legend()\n",
    "fig.tight_layout(pad=0.2)"
   ]
  },
  {
   "cell_type": "code",
   "execution_count": null,
   "metadata": {},
   "outputs": [],
   "source": [
    "bat_pose = np.asarray([0,0,np.pi/2-0*np.pi/18])\n",
    "objects = beacon2objects(0,0.74,-np.pi/2,d=0.3, mode='bull', bull_angle=np.pi/2)\n",
    "fig1, ax1 = plt.subplots()\n",
    "ax1.scatter(objects[objects[:,2]==2][:,0], objects[objects[:,2]==2][:,1], c='g', s=200)\n",
    "ax1.scatter(objects[objects[:,2]==1][:,0], objects[objects[:,2]==1][:,1], c='k', s=20)\n",
    "#ax.quiver([bat_pose[0], bat_pose[1]], U=np.cos(bat_pose[2]), V=np.sin(bat_pose[2]),\n",
    "#          scale_unit='xy', scale=1)\n",
    "ax1.set_xlim([-3,3])\n",
    "ax1.set_ylim([-2,4])\n",
    "ax1.set_aspect('equal')\n",
    "\n",
    "render = Render()\n",
    "compressed = render.run(bat_pose, objects)\n",
    "envelope_L = render.cache['left_envelope']\n",
    "envelope_R = render.cache['right_envelope']\n",
    "pole_comp = render.run(bat_pose, objects[np.where(objects[:,2]==1)]) #np.zeros((1,3)))\n",
    "#pole_comp = render.run(bat_pose, np.zeros((1,3)))\n",
    "pole_envL = render.cache['left_envelope']\n",
    "pole_envR = render.cache['right_envelope']\n",
    "plant_comp = render.run(bat_pose, objects[np.where(objects[:,2]==2)])\n",
    "plant_envL = render.cache['left_envelope']\n",
    "plant_envR = render.cache['right_envelope']\n",
    "fig, ax = plt.subplots(3,2, figsize=(16,8), sharey=True)\n",
    "for label, data in zip(compressed.keys(), compressed.values()):\n",
    "    ax[0,0].step(sensorconfig.COMPRESSED_DISTANCE_ENCODING, data, alpha=0.8, label=label)\n",
    "ax[0,1].plot(sensorconfig.DISTANCE_ENCODING, envelope_L, alpha=0.8, label='L')\n",
    "ax[0,1].plot(sensorconfig.DISTANCE_ENCODING, envelope_R, alpha=0.8, label='R')\n",
    "ax[0,1].legend()\n",
    "\n",
    "for label, data in zip(pole_comp.keys(), pole_comp.values()):\n",
    "    ax[1,0].step(sensorconfig.COMPRESSED_DISTANCE_ENCODING, data, alpha=0.8, label=label)\n",
    "ax[1,1].plot(sensorconfig.DISTANCE_ENCODING, pole_envL, alpha=0.8, label='L')\n",
    "ax[1,1].plot(sensorconfig.DISTANCE_ENCODING, pole_envR, alpha=0.8, label='R')\n",
    "ax[1,1].legend()\n",
    "\n",
    "for label, data in zip(plant_comp.keys(), plant_comp.values()):\n",
    "    ax[2,0].step(sensorconfig.COMPRESSED_DISTANCE_ENCODING, data, alpha=0.8, label=label)\n",
    "ax[2,1].plot(sensorconfig.DISTANCE_ENCODING, plant_envL, alpha=0.8, label='L')\n",
    "ax[2,1].plot(sensorconfig.DISTANCE_ENCODING, plant_envR, alpha=0.8, label='R')\n",
    "ax[2,1].legend()\n",
    "fig.tight_layout(pad=0.2)"
   ]
  },
  {
   "cell_type": "code",
   "execution_count": null,
   "metadata": {},
   "outputs": [],
   "source": [
    "angles = np.arange(-60,60.2, 0.2)\n",
    "distances = [1.2, 1., 0.8, 0.75, 0.7, 0.65]\n",
    "compressed_echoes = np.asarray([]).reshape(0,int(56*2))\n",
    "envelopes = np.asarray([]).reshape(0,14000)\n",
    "\n",
    "for distance in distances:\n",
    "    for angle in angles:\n",
    "        bat_pose = np.asarray([0, 0, np.pi/2 - np.radians(angle)],dtype=np.float32)\n",
    "        objects = beacon2objects(0, distance, -np.pi, d=0.3, mode='bull', bull_angle=np.pi/3)\n",
    "        render = Render()\n",
    "        compressed = render.run(bat_pose, objects)\n",
    "        envelope_L = render.cache['left_envelope']\n",
    "        envelope_R = render.cache['right_envelope']\n",
    "        compressed_echoes = np.vstack((compressed_echoes, np.concatenate((list(compressed.values()))).reshape(1,-1) ))\n",
    "        envelopes = np.vstack((envelopes, np.concatenate((envelope_L, envelope_R)).reshape(1,-1) ))"
   ]
  },
  {
   "cell_type": "code",
   "execution_count": null,
   "metadata": {},
   "outputs": [],
   "source": [
    "from matplotlib import colors"
   ]
  },
  {
   "cell_type": "code",
   "execution_count": null,
   "metadata": {},
   "outputs": [],
   "source": [
    "angles = np.arange(-90,90.2, 0.2)\n",
    "distances = np.arange(1.2, 0.6, -0.1)\n",
    "compressed_echoes = np.asarray([]).reshape(0,int(50*2))\n",
    "envelopes = np.asarray([]).reshape(0,14000)\n",
    "green_indices = []\n",
    "red_indices = []\n",
    "for distance in distances:\n",
    "    for i, angle in enumerate(angles):\n",
    "        if angle==-90: red_indices.append(i)\n",
    "        if angle==0: green_indices.append(i)\n",
    "        bat_pose = np.asarray([distance*np.cos(np.radians(angle)), distance*np.sin(np.radians(angle)), np.radians(angle)-np.pi],dtype=np.float32)\n",
    "        objects = beacon2objects(0, 0, 0, d=0.3, mode='bull', bull_angle=np.pi/3)\n",
    "        render = Render()\n",
    "        compressed = render.run(bat_pose, objects)\n",
    "        envelope_L = render.cache['left_envelope']\n",
    "        envelope_R = render.cache['right_envelope']\n",
    "        compressed_echoes = np.vstack((compressed_echoes, np.concatenate((list(compressed.values()))).reshape(1,-1) ))\n",
    "        envelopes = np.vstack((envelopes, np.concatenate((envelope_L, envelope_R)).reshape(1,-1) ))"
   ]
  },
  {
   "cell_type": "code",
   "execution_count": null,
   "metadata": {},
   "outputs": [],
   "source": [
    "\n",
    "fig, ax = plt.subplots(2,1, dpi=200)\n",
    "ax[0].imshow(compressed_echoes.T, cmap='Greys', aspect='auto')\n",
    "ax[0].vlines(x=900*np.arange(1,7), ymin=0, ymax=112, linewidth=0.5, colors='r', linestyle='--',alpha=0.8)\n",
    "ax[0].vlines(x=900*np.arange(0.5,6.5), ymin=0, ymax=112, linewidth=0.5, colors='g', linestyle=':',alpha=0.8)\n",
    "ax[1].imshow(envelopes.T, cmap='Greys', aspect='auto')\n",
    "ax[1].vlines(x=900*np.arange(1,7), ymin=0, ymax=14000, linewidth=0.5, colors='r', linestyle='--',alpha=0.8)\n",
    "ax[1].vlines(x=900*np.arange(0.5,6.5), ymin=0, ymax=14000, linewidth=0.5, colors='g', linestyle=':',alpha=0.8)"
   ]
  },
  {
   "cell_type": "code",
   "execution_count": null,
   "metadata": {},
   "outputs": [],
   "source": [
    "green_indices"
   ]
  },
  {
   "cell_type": "code",
   "execution_count": null,
   "metadata": {},
   "outputs": [],
   "source": []
  }
 ],
 "metadata": {
  "kernelspec": {
   "display_name": "Python 3.9.6 ('EchoGym')",
   "language": "python",
   "name": "python3"
  },
  "language_info": {
   "codemirror_mode": {
    "name": "ipython",
    "version": 3
   },
   "file_extension": ".py",
   "mimetype": "text/x-python",
   "name": "python",
   "nbconvert_exporter": "python",
   "pygments_lexer": "ipython3",
   "version": "3.9.6"
  },
  "orig_nbformat": 4,
  "vscode": {
   "interpreter": {
    "hash": "36e2866edbc03e6855d8970fc20ae6586806d495ef37c240c16b027abc29e265"
   }
  }
 },
 "nbformat": 4,
 "nbformat_minor": 2
}
