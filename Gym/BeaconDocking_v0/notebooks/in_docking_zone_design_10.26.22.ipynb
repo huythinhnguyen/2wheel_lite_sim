{
 "cells": [
  {
   "cell_type": "code",
   "execution_count": 2,
   "metadata": {},
   "outputs": [],
   "source": [
    "import numpy as np\n",
    "import os\n",
    "import pathlib\n",
    "import sys\n",
    "\n",
    "if pathlib.Path(os.getcwd()).parents[2] not in sys.path:\n",
    "    sys.path.append(str(pathlib.Path(os.getcwd()).parents[2]))\n",
    "\n",
    "from Sensors.BatEcho.Spatializer import Render\n",
    "from Sensors.BatEcho import Setting as sensorconfig\n",
    "from Gym.BeaconDocking_v0 import Helper\n",
    "from Arena import Builder\n",
    "\n",
    "from Control.SensorimotorLoops.BatEcho import AvoidApproach\n",
    "from Simulation.Motion import State\n",
    "from Control.SensorimotorLoops import Setting as controlconfig\n",
    "\n",
    "from matplotlib import pyplot as plt\n",
    "%matplotlib inline"
   ]
  },
  {
   "cell_type": "code",
   "execution_count": null,
   "metadata": {},
   "outputs": [],
   "source": [
    "data = np.load('data.npz')\n",
    "reference_poses = data['poses']\n",
    "reference_scores= data['scores']\n",
    "poses_matrix_reference = reference_poses[reference_scores==1]\n",
    "beacon_centric_reference = np.copy(poses_matrix_reference)\n",
    "theta = np.pi*(-0.5)\n",
    "rotmat = np.asarray([np.cos(theta), -np.sin(theta), np.sin(theta), np.cos(theta)], dtype=np.float32).reshape(2,2)\n",
    "beacon_centric_reference[:,:2] = np.matmul(rotmat, beacon_centric_reference[:,:2].T).T\n",
    "beacon_centric_reference[:,2] = Builder.wrap2pi(beacon_centric_reference[:,2] + theta)"
   ]
  },
  {
   "cell_type": "code",
   "execution_count": null,
   "metadata": {},
   "outputs": [],
   "source": [
    "fig, ax = plt.subplots(dpi=150)\n",
    "\n",
    "ax.scatter(poses_matrix_reference[:,0],poses_matrix_reference[:,1], c='r', s=1, alpha=0.01)\n",
    "ax.quiver(poses_matrix_reference[:,0],poses_matrix_reference[:,1],\n",
    "        np.cos(poses_matrix_reference[:,2]), np.sin(poses_matrix_reference[:,2]),\n",
    "          scale=25, width=3e-3, color='r', alpha=0.2)\n",
    "\n",
    "ax.scatter(beacon_centric_reference[:,0],beacon_centric_reference[:,1], c='k', s=1, alpha=0.01)\n",
    "ax.quiver(beacon_centric_reference[:,0],beacon_centric_reference[:,1],\n",
    "        np.cos(beacon_centric_reference[:,2]), np.sin(beacon_centric_reference[:,2]),\n",
    "          scale=25, width=3e-3, color='k', alpha=0.2)\n",
    "\n",
    "#ax.scatter(objects[objects[:,2]==2][:,0], objects[objects[:,2]==2][:,1], c='g', s=150)\n",
    "#ax.scatter(objects[objects[:,2]==1][:,0], objects[objects[:,2]==1][:,1], c='k', s=30)\n",
    "#ax.set_xlim([-2.6,2.6])\n",
    "#ax.set_ylim([-5,0.])\n",
    "ax.set_aspect('equal')"
   ]
  },
  {
   "cell_type": "code",
   "execution_count": null,
   "metadata": {},
   "outputs": [],
   "source": [
    "from mpl_toolkits import mplot3d\n",
    "\n",
    "%matplotlib widget\n",
    "\n",
    "fig = plt.figure()\n",
    "ax = plt.axes(projection='3d')\n",
    "ax.scatter3D(beacon_centric_reference[:,0], beacon_centric_reference[:,1], np.degrees(beacon_centric_reference[:,2]), c=beacon_centric_reference[:,2], marker='s', s=25)\n",
    "ax.set_xlabel('x')\n",
    "ax.set_ylabel('y')\n",
    "ax.set_zlabel('yaw')\n",
    "ax.set_ylim([-4, 4])\n",
    "ax.set_xlim([-7, 1])"
   ]
  },
  {
   "cell_type": "code",
   "execution_count": 2,
   "metadata": {},
   "outputs": [],
   "source": [
    "%matplotlib inline"
   ]
  },
  {
   "cell_type": "code",
   "execution_count": 3,
   "metadata": {},
   "outputs": [
    {
     "data": {
      "text/plain": [
       "\"\\nfig, ax = plt.subplots(1,3,dpi=150, figsize=(10,30))\\nax[0].scatter(X_doc[:,0],X_doc[:,1], c='g', s=0.1, alpha=0.05)\\nax[0].quiver(X_doc[:,0],X_doc[:,1], np.cos(X_doc[:,2]), np.sin(X_doc[:,2]),\\n          scale=25, width=2e-3, color='g', alpha=0.05)\\nax[1].scatter(X_hit[:,0],X_hit[:,1], c='r', s=0.1, alpha=0.02)\\nax[1].quiver(X_hit[:,0],X_hit[:,1], np.cos(X_hit[:,2]), np.sin(X_hit[:,2]),\\n          scale=25, width=2e-3, color='r', alpha=0.02)\\n#ax[2].scatter(X_out[:,0],X_out[:,1], c='b', s=0.1, alpha=0.01)\\nax[2].quiver(X_out[:,0],X_out[:,1], np.cos(X_out[:,2]), np.sin(X_out[:,2]),\\n          scale=25, width=2e-3, color='b', alpha=0.01)\\n\\nfor a in ax:\\n    a.set_xlim([-10, 10])\\n    a.set_ylim([-10, 10])\\n    a.set_aspect('equal')\\n\""
      ]
     },
     "execution_count": 3,
     "metadata": {},
     "output_type": "execute_result"
    }
   ],
   "source": [
    "dataset = np.load('dockingZone_dataset.npz')\n",
    "X = dataset['X']\n",
    "Y= dataset['Y'].squeeze()\n",
    "X_doc = X[Y==1]\n",
    "X_hit = X[Y==-1]\n",
    "X_out = X[Y==0]\n",
    "X_out = X_out[np.where((X_out[:,0]!=0)+(X_out[:,1]!=0)+(X_out[:,2]!=0))][:50000]\n",
    "\"\"\"\n",
    "fig, ax = plt.subplots(1,3,dpi=150, figsize=(10,30))\n",
    "ax[0].scatter(X_doc[:,0],X_doc[:,1], c='g', s=0.1, alpha=0.05)\n",
    "ax[0].quiver(X_doc[:,0],X_doc[:,1], np.cos(X_doc[:,2]), np.sin(X_doc[:,2]),\n",
    "          scale=25, width=2e-3, color='g', alpha=0.05)\n",
    "ax[1].scatter(X_hit[:,0],X_hit[:,1], c='r', s=0.1, alpha=0.02)\n",
    "ax[1].quiver(X_hit[:,0],X_hit[:,1], np.cos(X_hit[:,2]), np.sin(X_hit[:,2]),\n",
    "          scale=25, width=2e-3, color='r', alpha=0.02)\n",
    "#ax[2].scatter(X_out[:,0],X_out[:,1], c='b', s=0.1, alpha=0.01)\n",
    "ax[2].quiver(X_out[:,0],X_out[:,1], np.cos(X_out[:,2]), np.sin(X_out[:,2]),\n",
    "          scale=25, width=2e-3, color='b', alpha=0.01)\n",
    "\n",
    "for a in ax:\n",
    "    a.set_xlim([-10, 10])\n",
    "    a.set_ylim([-10, 10])\n",
    "    a.set_aspect('equal')\n",
    "\"\"\""
   ]
  },
  {
   "cell_type": "code",
   "execution_count": null,
   "metadata": {},
   "outputs": [],
   "source": [
    "fig, ax = plt.subplots(dpi=100)\n",
    "ax.scatter(X_hit[:,0],X_hit[:,1], c='r', s=0.1, alpha=0.05)\n",
    "ax.quiver(X_hit[:,0],X_hit[:,1], np.cos(X_hit[:,2]), np.sin(X_hit[:,2]),\n",
    "          scale=25, width=2e-3, color='r', alpha=0.05)\n",
    "ax.scatter(X_doc[:,0],X_doc[:,1], c='g', s=0.1, alpha=0.1)\n",
    "ax.quiver(X_doc[:,0],X_doc[:,1], np.cos(X_doc[:,2]), np.sin(X_doc[:,2]),\n",
    "          scale=25, width=2e-3, color='g', alpha=0.1)\n",
    "ax.set_xlim([-10, 10])\n",
    "ax.set_ylim([-10, 10])\n",
    "ax.set_aspect('equal')"
   ]
  },
  {
   "cell_type": "code",
   "execution_count": 4,
   "metadata": {},
   "outputs": [
    {
     "name": "stdout",
     "output_type": "stream",
     "text": [
      "Number of sample: [docked]=4889 | [hit]=21742 | [out]=50000\n",
      "Class percentage: [docked]=0.06 | [hit]=0.28 | [out]=0.65\n"
     ]
    }
   ],
   "source": [
    "N_hit = len(X_hit)\n",
    "N_doc = len(X_doc)\n",
    "N_out = len(X_out)\n",
    "N_hit_percent = N_hit / (N_hit+N_doc+N_out)\n",
    "N_doc_percent = N_doc / (N_hit+N_doc+N_out)\n",
    "N_out_percent = N_out / (N_hit+N_doc+N_out)\n",
    "print('Number of sample: [docked]={0} | [hit]={1} | [out]={2}'.format(N_doc, N_hit, N_out))\n",
    "print('Class percentage: [docked]={:.2f} | [hit]={:.2f} | [out]={:.2f}'.format(N_doc_percent, N_hit_percent, N_out_percent))\n"
   ]
  },
  {
   "cell_type": "code",
   "execution_count": 5,
   "metadata": {},
   "outputs": [],
   "source": [
    "%matplotlib inline"
   ]
  },
  {
   "cell_type": "code",
   "execution_count": null,
   "metadata": {},
   "outputs": [],
   "source": []
  },
  {
   "cell_type": "markdown",
   "metadata": {},
   "source": []
  },
  {
   "cell_type": "markdown",
   "metadata": {},
   "source": [
    "### To learn or not to learn\n",
    "I think I should construct a train and test dataset. From this cloud.\n",
    "Aparently, KNClassifier seems the most intuitive for me. However, the disadvantage is the with a large cloud of data. It will be very expensive to during runtime.\n",
    "-> Let's use KNClassifier as a benchmark\n",
    "Test a few candidate:\n",
    "0. KNClassifer (benchmark)\n",
    "1. Logistic Regression.\n",
    "2. RBF SVM\n",
    "3. Gaussian Process --> Do Not Compute!\n",
    "4. Naive Bayes (Gaussian, Bernoulli, Categorical)\n",
    "\n",
    "!!! Metrics:\n",
    "1. Test Accuracy\n",
    "2. Precision Recall\n",
    "* Precision = TP/(TP + FP)\n",
    "* Recall = TP/(TP + FN)\n",
    "* ROC (receiver operating characteristic curve) curve (TP_rate vs FP_rate):\n",
    "  * TP_rate = recall = TP/(TP+FN)\n",
    "  * FP_rate = FP/(FP+TN)\n",
    "  * Each point on the curve is for a threshold (or decision threshold)\n",
    "  * Are under this curve indicate performance of a method despite thresholding.\n",
    "* Precision recall curve: Area under this curve indicate performance.\n"
   ]
  },
  {
   "cell_type": "markdown",
   "metadata": {},
   "source": [
    "### Metrics Functions"
   ]
  },
  {
   "cell_type": "code",
   "execution_count": 6,
   "metadata": {},
   "outputs": [],
   "source": [
    "def getMetrics(Y_hat, Y, classes):\n",
    "    metrics = {}\n",
    "    metrics['accuracy'] = np.sum(Y_hat==Y) / len(Y_hat)\n",
    "    n_class = len(classes)\n",
    "    TP, FP, TN, FN = np.zeros(n_class), np.zeros(n_class), np.zeros(n_class), np.zeros(n_class)\n",
    "    for i, k in enumerate(classes):\n",
    "        TP[i] = np.sum(Y_hat[Y_hat==k] == Y[Y_hat==k])\n",
    "        FP[i] = np.sum(Y_hat[Y_hat==k] != Y[Y_hat==k])\n",
    "        TN[i] = np.sum(Y[Y_hat!=k] != k)\n",
    "        FN[i] = np.sum(Y[Y_hat!=k] == k)\n",
    "    metrics['precision'] = np.divide(TP, TP+FP)\n",
    "    metrics['recall'] = np.divide(TP, TP+FN)\n",
    "    metrics['FP_rate'] = np.divide(FP, FP+TN)\n",
    "    return metrics"
   ]
  },
  {
   "cell_type": "code",
   "execution_count": 7,
   "metadata": {},
   "outputs": [],
   "source": [
    "X_set = np.vstack((X_doc, X_hit, X_out))\n",
    "Y_set = np.vstack((0*np.ones((len(X_doc),1)), 1*np.ones((len(X_hit),1)), 2*np.ones((len(X_out),1)) ))\n",
    "labels = {'doc': 0, 'hit': 1, 'out': 2}"
   ]
  },
  {
   "cell_type": "code",
   "execution_count": 8,
   "metadata": {},
   "outputs": [
    {
     "name": "stdout",
     "output_type": "stream",
     "text": [
      "Train Size = 61304 | Test Size = 15327\n"
     ]
    },
    {
     "data": {
      "text/plain": [
       "\"\\nfig, ax = plt.subplots(2,3,dpi=150)\\nax[0,0].scatter(X_train[y_train==0][:,0],X_train[y_train==0][:,1], c='g', s=0.1, alpha=0.05)\\nax[0,0].quiver(X_train[y_train==0][:,0],X_train[y_train==0][:,1], np.cos(X_train[y_train==0][:,2]), np.sin(X_train[y_train==0][:,2]),\\n          scale=25, width=2e-3, color='g', alpha=0.05)\\nax[0,1].scatter(X_train[y_train==1][:,0],X_train[y_train==1][:,1], c='r', s=0.1, alpha=0.02)\\nax[0,1].quiver(X_train[y_train==1][:,0],X_train[y_train==1][:,1], np.cos(X_train[y_train==1][:,2]), np.sin(X_train[y_train==1][:,2]),\\n          scale=25, width=2e-3, color='r', alpha=0.02)\\n#ax[2].scatter(X_out[:,0],X_out[:,1], c='b', s=0.1, alpha=0.01)\\nax[0,2].quiver(X_train[y_train==2][:,0],X_train[y_train==2][:,1], np.cos(X_train[y_train==2][:,2]), np.sin(X_train[y_train==2][:,2]),\\n          scale=25, width=2e-3, color='b', alpha=0.01)\\n\\nax[1,0].scatter(X_test[y_test==0][:,0],X_test[y_test==0][:,1], c='g', s=0.1, alpha=0.2)\\nax[1,0].quiver(X_test[y_test==0][:,0],X_test[y_test==0][:,1], np.cos(X_test[y_test==0][:,2]), np.sin(X_test[y_test==0][:,2]),\\n          scale=25, width=2e-3, color='g', alpha=0.2)\\nax[1,1].scatter(X_test[y_test==1][:,0],X_test[y_test==1][:,1], c='r', s=0.1, alpha=0.1)\\nax[1,1].quiver(X_test[y_test==1][:,0],X_test[y_test==1][:,1], np.cos(X_test[y_test==1][:,2]), np.sin(X_test[y_test==1][:,2]),\\n          scale=25, width=2e-3, color='r', alpha=0.1)\\n#ax[2].scatter(X_out[:,0],X_out[:,1], c='b', s=0.1, alpha=0.01)\\nax[1,2].quiver(X_test[y_test==2][:,0],X_test[y_test==2][:,1], np.cos(X_test[y_test==2][:,2]), np.sin(X_test[y_test==2][:,2]),\\n          scale=25, width=2e-3, color='b', alpha=0.05)\\n\\nfor i in range(len(ax)):\\n    for axx in ax[i]:\\n        axx.set_xlim([-8, 8])\\n        axx.set_ylim([-8, 8])\\n        axx.set_aspect('equal')\\n\""
      ]
     },
     "execution_count": 8,
     "metadata": {},
     "output_type": "execute_result"
    }
   ],
   "source": [
    "from sklearn.model_selection import train_test_split\n",
    "\n",
    "X_train, X_test, y_train, y_test = train_test_split(X_set, Y_set.squeeze(), test_size=0.2, random_state=123)\n",
    "print('Train Size = {0} | Test Size = {1}'.format(len(X_train), len(X_test)))\n",
    "\"\"\"\n",
    "fig, ax = plt.subplots(2,3,dpi=150)\n",
    "ax[0,0].scatter(X_train[y_train==0][:,0],X_train[y_train==0][:,1], c='g', s=0.1, alpha=0.05)\n",
    "ax[0,0].quiver(X_train[y_train==0][:,0],X_train[y_train==0][:,1], np.cos(X_train[y_train==0][:,2]), np.sin(X_train[y_train==0][:,2]),\n",
    "          scale=25, width=2e-3, color='g', alpha=0.05)\n",
    "ax[0,1].scatter(X_train[y_train==1][:,0],X_train[y_train==1][:,1], c='r', s=0.1, alpha=0.02)\n",
    "ax[0,1].quiver(X_train[y_train==1][:,0],X_train[y_train==1][:,1], np.cos(X_train[y_train==1][:,2]), np.sin(X_train[y_train==1][:,2]),\n",
    "          scale=25, width=2e-3, color='r', alpha=0.02)\n",
    "#ax[2].scatter(X_out[:,0],X_out[:,1], c='b', s=0.1, alpha=0.01)\n",
    "ax[0,2].quiver(X_train[y_train==2][:,0],X_train[y_train==2][:,1], np.cos(X_train[y_train==2][:,2]), np.sin(X_train[y_train==2][:,2]),\n",
    "          scale=25, width=2e-3, color='b', alpha=0.01)\n",
    "\n",
    "ax[1,0].scatter(X_test[y_test==0][:,0],X_test[y_test==0][:,1], c='g', s=0.1, alpha=0.2)\n",
    "ax[1,0].quiver(X_test[y_test==0][:,0],X_test[y_test==0][:,1], np.cos(X_test[y_test==0][:,2]), np.sin(X_test[y_test==0][:,2]),\n",
    "          scale=25, width=2e-3, color='g', alpha=0.2)\n",
    "ax[1,1].scatter(X_test[y_test==1][:,0],X_test[y_test==1][:,1], c='r', s=0.1, alpha=0.1)\n",
    "ax[1,1].quiver(X_test[y_test==1][:,0],X_test[y_test==1][:,1], np.cos(X_test[y_test==1][:,2]), np.sin(X_test[y_test==1][:,2]),\n",
    "          scale=25, width=2e-3, color='r', alpha=0.1)\n",
    "#ax[2].scatter(X_out[:,0],X_out[:,1], c='b', s=0.1, alpha=0.01)\n",
    "ax[1,2].quiver(X_test[y_test==2][:,0],X_test[y_test==2][:,1], np.cos(X_test[y_test==2][:,2]), np.sin(X_test[y_test==2][:,2]),\n",
    "          scale=25, width=2e-3, color='b', alpha=0.05)\n",
    "\n",
    "for i in range(len(ax)):\n",
    "    for axx in ax[i]:\n",
    "        axx.set_xlim([-8, 8])\n",
    "        axx.set_ylim([-8, 8])\n",
    "        axx.set_aspect('equal')\n",
    "\"\"\""
   ]
  },
  {
   "cell_type": "markdown",
   "metadata": {},
   "source": [
    "### KNN Classifier"
   ]
  },
  {
   "cell_type": "code",
   "execution_count": 9,
   "metadata": {},
   "outputs": [],
   "source": [
    "from sklearn.neighbors import KNeighborsClassifier\n",
    "KNC_metrics={}\n",
    "for k in range(3,13):\n",
    "    model = KNeighborsClassifier(n_neighbors=k)\n",
    "    model.fit(X_train,y_train)\n",
    "    prediction = model.predict(X_test)\n",
    "    KNC_metrics[k]=getMetrics(prediction, y_test, classes=list(labels.values()))"
   ]
  },
  {
   "cell_type": "code",
   "execution_count": 20,
   "metadata": {},
   "outputs": [
    {
     "name": "stdout",
     "output_type": "stream",
     "text": [
      "N_neighbor=3, accuracy=0.94, precision=[0.79 0.89 0.98], recall=[0.86 0.94 0.95]\n",
      "N_neighbor=4, accuracy=0.94, precision=[0.77 0.87 0.99], recall=[0.89 0.96 0.94]\n",
      "N_neighbor=5, accuracy=0.95, precision=[0.8  0.89 0.99], recall=[0.87 0.95 0.95]\n",
      "N_neighbor=6, accuracy=0.94, precision=[0.78 0.87 0.99], recall=[0.89 0.96 0.94]\n",
      "N_neighbor=7, accuracy=0.94, precision=[0.8  0.88 0.99], recall=[0.87 0.96 0.94]\n",
      "N_neighbor=8, accuracy=0.94, precision=[0.78 0.87 0.99], recall=[0.88 0.96 0.93]\n",
      "N_neighbor=9, accuracy=0.94, precision=[0.8  0.88 0.99], recall=[0.87 0.96 0.94]\n",
      "N_neighbor=10, accuracy=0.94, precision=[0.79 0.86 0.99], recall=[0.88 0.97 0.93]\n",
      "N_neighbor=11, accuracy=0.94, precision=[0.79 0.87 0.99], recall=[0.87 0.96 0.94]\n",
      "N_neighbor=12, accuracy=0.94, precision=[0.79 0.86 1.  ], recall=[0.88 0.97 0.93]\n",
      "Accuracy = 0.94\n"
     ]
    }
   ],
   "source": [
    "avg_accuracy = 0\n",
    "for metrics, k in zip(KNC_metrics.values(),KNC_metrics.keys()):\n",
    "    print('N_neighbor={:}, accuracy={:.2f}, precision={:}, recall={:}'.format(k,metrics['accuracy'],np.round(metrics['precision'],2),np.round(metrics['recall'],2)))\n",
    "    avg_accuracy+=metrics['accuracy']\n",
    "avg_accuracy /= len(KNC_metrics.keys())\n",
    "print('Accuracy = {:.2f}'.format(avg_accuracy))"
   ]
  },
  {
   "cell_type": "markdown",
   "metadata": {},
   "source": [
    "### Logistic Regression"
   ]
  },
  {
   "cell_type": "code",
   "execution_count": null,
   "metadata": {},
   "outputs": [],
   "source": [
    "from sklearn.linear_model import LogisticRegression\n",
    "LogReg_metrics = {}\n",
    "for C in [1e-4, 1e-3, 1e-2, 1e-1, 1, 1e1, 1e2, 1e3, 1e4, 1e5]:\n",
    "    model = LogisticRegression(C=C)\n",
    "    model.fit(X_train, y_train)\n",
    "    prediction = model.predict(X_test)\n",
    "    LogReg_metrics[C] = getMetrics(prediction, y_test, classes=list(labels.values()))"
   ]
  },
  {
   "cell_type": "code",
   "execution_count": null,
   "metadata": {},
   "outputs": [],
   "source": [
    "avg_accuracy = 0\n",
    "for metrics, k in zip(LogReg_metrics.values(),LogReg_metrics.keys()):\n",
    "    #print('C={:}, accuracy={:.2f}'.format(k, metrics['accuracy']))\n",
    "    avg_accuracy+=metrics['accuracy']\n",
    "avg_accuracy /= len(LogReg_metrics.keys())\n",
    "print('Accuracy = {:.2f}'.format(avg_accuracy))"
   ]
  },
  {
   "cell_type": "markdown",
   "metadata": {},
   "source": [
    "### Support Vector Machine"
   ]
  },
  {
   "cell_type": "code",
   "execution_count": 25,
   "metadata": {},
   "outputs": [
    {
     "name": "stderr",
     "output_type": "stream",
     "text": [
      "/var/folders/fh/5mxx7x912h564dkdbbnnsw0h0000gn/T/ipykernel_1420/2552518080.py:11: RuntimeWarning: invalid value encountered in true_divide\n",
      "  metrics['precision'] = np.divide(TP, TP+FP)\n",
      "/var/folders/fh/5mxx7x912h564dkdbbnnsw0h0000gn/T/ipykernel_1420/2552518080.py:11: RuntimeWarning: invalid value encountered in true_divide\n",
      "  metrics['precision'] = np.divide(TP, TP+FP)\n",
      "/var/folders/fh/5mxx7x912h564dkdbbnnsw0h0000gn/T/ipykernel_1420/2552518080.py:11: RuntimeWarning: invalid value encountered in true_divide\n",
      "  metrics['precision'] = np.divide(TP, TP+FP)\n"
     ]
    }
   ],
   "source": [
    "from sklearn import svm\n",
    "gammas = [0.1, 0.3, 0.6, 1, 3, 6, 10]\n",
    "Cs = [1e-2, 1e-1, 1, 1e1, 1e2]\n",
    "SVM_metrics = {}\n",
    "for g in gammas:\n",
    "    for c in Cs:\n",
    "        model = svm.SVC(kernel='rbf', C=c, gamma=g)\n",
    "        model.fit(X_train, y_train)\n",
    "        prediction = model.predict(X_test)\n",
    "        SVM_metrics[(c,g)] = getMetrics(prediction, y_test, classes=list(labels.values()))"
   ]
  },
  {
   "cell_type": "code",
   "execution_count": 39,
   "metadata": {},
   "outputs": [
    {
     "name": "stdout",
     "output_type": "stream",
     "text": [
      "C=0.1, gamma=6.0, accuracy=0.93, precision=[0.96 0.94 0.93], recall=[0.59 0.89 0.99]\n",
      "Accuracy = 0.03\n"
     ]
    }
   ],
   "source": [
    "avg_accuracy = 0\n",
    "for metrics, k in zip(SVM_metrics.values(),SVM_metrics.keys()):\n",
    "    if (metrics['accuracy']<0.9) or (metrics['precision'][0]<0.9): continue\n",
    "    print('C={:.1f}, gamma={:.1f}, accuracy={:.2f}, precision={:}, recall={:}'.format(k[0],k[1],metrics['accuracy'],np.round(metrics['precision'],2),np.round(metrics['recall'],2)))\n",
    "    avg_accuracy+=metrics['accuracy']\n",
    "avg_accuracy /= len(SVM_metrics.keys())\n",
    "print('Accuracy = {:.2f}'.format(avg_accuracy))"
   ]
  },
  {
   "cell_type": "markdown",
   "metadata": {},
   "source": [
    "### Naive Bayes"
   ]
  },
  {
   "cell_type": "code",
   "execution_count": 10,
   "metadata": {},
   "outputs": [
    {
     "name": "stderr",
     "output_type": "stream",
     "text": [
      "/var/folders/fh/5mxx7x912h564dkdbbnnsw0h0000gn/T/ipykernel_1307/2552518080.py:11: RuntimeWarning: invalid value encountered in true_divide\n",
      "  metrics['precision'] = np.divide(TP, TP+FP)\n",
      "/var/folders/fh/5mxx7x912h564dkdbbnnsw0h0000gn/T/ipykernel_1307/2552518080.py:11: RuntimeWarning: invalid value encountered in true_divide\n",
      "  metrics['precision'] = np.divide(TP, TP+FP)\n"
     ]
    }
   ],
   "source": [
    "from sklearn.naive_bayes import GaussianNB, BernoulliNB, ComplementNB\n",
    "\n",
    "NB_metrics = {}\n",
    "classifiers = {'gaussian': GaussianNB(),\n",
    "                  'bernoulli': BernoulliNB()}\n",
    "for key, model in zip(classifiers.keys(), classifiers.values()):\n",
    "    model.fit(X_train, y_train)\n",
    "    prediction = model.predict(X_test)\n",
    "    NB_metrics[key] = getMetrics(prediction, y_test, classes=list(labels.values()))"
   ]
  },
  {
   "cell_type": "code",
   "execution_count": 12,
   "metadata": {},
   "outputs": [
    {
     "name": "stdout",
     "output_type": "stream",
     "text": [
      "mode=gaussian, accuracy=0.65\n",
      "mode=bernoulli, accuracy=0.65\n",
      "Accuracy = 0.65\n"
     ]
    }
   ],
   "source": [
    "avg_accuracy = 0\n",
    "for metrics, k in zip(NB_metrics.values(),NB_metrics.keys()):\n",
    "    print('mode='+k+', accuracy={:.2f}'.format(metrics['accuracy']))\n",
    "    avg_accuracy+=metrics['accuracy']\n",
    "avg_accuracy /= len(NB_metrics.keys())\n",
    "print('Accuracy = {:.2f}'.format(avg_accuracy))"
   ]
  },
  {
   "cell_type": "markdown",
   "metadata": {},
   "source": [
    "### Neural Network"
   ]
  },
  {
   "cell_type": "code",
   "execution_count": 11,
   "metadata": {},
   "outputs": [],
   "source": [
    "from sklearn.neural_network import MLPClassifier\n",
    "hidden_sets = [(4,), (8,), (16,) , (32,),\n",
    "               (4,4),   (8,8),   (16, 16),\n",
    "               (4,4,4), (8,8,8), (16, 16, 16)]\n",
    "NeuNet_metrics = {}\n",
    "for hidden in hidden_sets:\n",
    "    model = MLPClassifier(hidden_layer_sizes=hidden, max_iter=100_000)\n",
    "    model.fit(X_train, y_train)\n",
    "    prediction = model.predict(X_test)\n",
    "    NeuNet_metrics[hidden] = getMetrics(prediction, y_test, classes=list(labels.values()))\n"
   ]
  },
  {
   "cell_type": "code",
   "execution_count": 18,
   "metadata": {},
   "outputs": [
    {
     "name": "stdout",
     "output_type": "stream",
     "text": [
      "hidden=(4,), accuracy=0.75, precision=[0.69 0.7  0.76], recall=[0.13 0.5  0.92]\n",
      "hidden=(8,), accuracy=0.87, precision=[0.64 0.78 0.94], recall=[0.6  0.86 0.91]\n",
      "hidden=(16,), accuracy=0.92, precision=[0.7  0.87 0.97], recall=[0.81 0.9  0.94]\n",
      "hidden=(32,), accuracy=0.95, precision=[0.82 0.9  0.98], recall=[0.83 0.93 0.96]\n",
      "hidden=(4, 4), accuracy=0.86, precision=[0.72 0.76 0.91], recall=[0.29 0.85 0.92]\n",
      "hidden=(8, 8), accuracy=0.94, precision=[0.76 0.91 0.98], recall=[0.86 0.92 0.96]\n",
      "hidden=(16, 16), accuracy=0.96, precision=[0.82 0.94 0.98], recall=[0.87 0.92 0.98]\n",
      "hidden=(4, 4, 4), accuracy=0.91, precision=[0.68 0.86 0.96], recall=[0.81 0.87 0.93]\n",
      "hidden=(8, 8, 8), accuracy=0.95, precision=[0.78 0.92 0.99], recall=[0.89 0.94 0.96]\n",
      "hidden=(16, 16, 16), accuracy=0.96, precision=[0.88 0.94 0.97], recall=[0.82 0.93 0.98]\n",
      "Accuracy = 0.91\n"
     ]
    }
   ],
   "source": [
    "avg_accuracy = 0\n",
    "for metrics, k in zip(NeuNet_metrics.values(),NeuNet_metrics.keys()):\n",
    "    print('hidden='+str(k)+', accuracy={:.2f}, precision={:}, recall={:}'.format(metrics['accuracy'],np.round(metrics['precision'],2),np.round(metrics['recall'],2)))\n",
    "    avg_accuracy+=metrics['accuracy']\n",
    "avg_accuracy /= len(NeuNet_metrics.keys())\n",
    "print('Accuracy = {:.2f}'.format(avg_accuracy))"
   ]
  },
  {
   "cell_type": "markdown",
   "metadata": {},
   "source": [
    "## Result\n",
    "### Select SVM RBF for classifier\n",
    "### Papermeter:\n",
    "C=10, Gamma=1 -> balance Precision Recall\n",
    "### Emphasize on Precision but low recall\n",
    "C=0.1, gamma=6.0, accuracy=0.93, precision=[0.96 0.94 0.93], recall=[0.59 0.89 0.99]\n",
    "Accuracy = 0.03"
   ]
  },
  {
   "cell_type": "markdown",
   "metadata": {},
   "source": []
  }
 ],
 "metadata": {
  "kernelspec": {
   "display_name": "Python 3.9.6 ('EchoGym')",
   "language": "python",
   "name": "python3"
  },
  "language_info": {
   "codemirror_mode": {
    "name": "ipython",
    "version": 3
   },
   "file_extension": ".py",
   "mimetype": "text/x-python",
   "name": "python",
   "nbconvert_exporter": "python",
   "pygments_lexer": "ipython3",
   "version": "3.9.6"
  },
  "orig_nbformat": 4,
  "vscode": {
   "interpreter": {
    "hash": "36e2866edbc03e6855d8970fc20ae6586806d495ef37c240c16b027abc29e265"
   }
  }
 },
 "nbformat": 4,
 "nbformat_minor": 2
}
