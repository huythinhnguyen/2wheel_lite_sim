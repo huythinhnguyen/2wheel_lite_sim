{
 "cells": [
  {
   "cell_type": "code",
   "execution_count": null,
   "metadata": {},
   "outputs": [],
   "source": [
    "import numpy as np\n",
    "import os\n",
    "import pathlib\n",
    "import sys\n",
    "\n",
    "if pathlib.Path(os.getcwd()).parents[2] not in sys.path:\n",
    "    sys.path.append(str(pathlib.Path(os.getcwd()).parents[2]))\n",
    "\n",
    "from Sensors.BatEcho.Spatializer import Render\n",
    "from Sensors.BatEcho import Setting as sensorconfig\n",
    "from Gym.BeaconDocking_v0 import Helper\n",
    "from Arena import Builder\n",
    "\n",
    "np.random.seed(1)"
   ]
  },
  {
   "cell_type": "code",
   "execution_count": null,
   "metadata": {},
   "outputs": [],
   "source": [
    "from Control.SensorimotorLoops.BatEcho import AvoidApproach, Avoid\n",
    "from Simulation.Motion import State\n",
    "from Control.SensorimotorLoops import Setting as controlconfig\n",
    "\n",
    "from matplotlib import pyplot as plt\n",
    "%matplotlib inline"
   ]
  },
  {
   "cell_type": "markdown",
   "metadata": {},
   "source": [
    "### Create Maze, Beacons and Bat Pose"
   ]
  },
  {
   "cell_type": "code",
   "execution_count": null,
   "metadata": {},
   "outputs": [],
   "source": [
    "obstacles = Helper.box_builder('')\n",
    "bat_pose, beacons = Helper.initializer(jit=1)\n",
    "# merge obstacles and beacons into an objects array\n",
    "objects = Helper.concatenate_beacons(beacon_objs=Helper.beacons2objects(beacons), \n",
    "                                     objects=obstacles)"
   ]
  },
  {
   "cell_type": "code",
   "execution_count": null,
   "metadata": {},
   "outputs": [],
   "source": [
    "fig, ax = plt.subplots(dpi=100)\n",
    "ax.scatter(objects[objects[:,2]==2][:,0], objects[objects[:,2]==2][:,1], c='g', s=100)\n",
    "ax.scatter(objects[objects[:,2]==1][:,0], objects[objects[:,2]==1][:,1], c='k', s=20)\n",
    "ax.scatter(bat_pose[0], bat_pose[1], s=10)\n",
    "ax.quiver(bat_pose[0], bat_pose[1], np.cos(bat_pose[2]), np.sin(bat_pose[2]))\n",
    "\n",
    "ax.set_aspect('equal')"
   ]
  },
  {
   "cell_type": "code",
   "execution_count": null,
   "metadata": {},
   "outputs": [],
   "source": [
    "pose = np.copy(bat_pose)\n",
    "render = Render()\n",
    "state = State(pose=pose, dt=1/40)\n",
    "controller = AvoidApproach()\n",
    "poses = np.copy(pose).reshape(1,3)\n",
    "for _ in range(5000):\n",
    "    compressed = render.run(pose, objects)\n",
    "    if Helper.collision_check(render.cache['inview'], 'plant'):\n",
    "        print('HIT PLANT')\n",
    "        break\n",
    "    if Helper.collision_check(render.cache['inview'], 'pole'):\n",
    "        print('HIT POLE')\n",
    "        break\n",
    "    v, omega = controller.get_kinematic(compressed)\n",
    "    state.update_kinematic(kinematic=[v, omega])\n",
    "    state.update_pose()\n",
    "    pose = state.pose\n",
    "    poses = np.vstack((poses, pose.reshape(1,3)))\n",
    "\n"
   ]
  },
  {
   "cell_type": "code",
   "execution_count": null,
   "metadata": {},
   "outputs": [],
   "source": [
    "quiverspacing=100\n",
    "fig, ax = plt.subplots(dpi=100)\n",
    "ax.scatter(objects[objects[:,2]==2][:,0], objects[objects[:,2]==2][:,1], c='g', s=100)\n",
    "ax.scatter(objects[objects[:,2]==1][:,0], objects[objects[:,2]==1][:,1], c='k', s=20)\n",
    "ax.plot(poses[:,0], poses[:,1], linewidth=1, alpha=0.5)\n",
    "ax.scatter(poses[np.where(actions==1)][:,0],poses[np.where(actions==1)][:,1], c='r', s=10, alpha=0.5)\n",
    "\n",
    "ax.quiver(poses[::quiverspacing,0], poses[::quiverspacing,1], np.cos(poses[::quiverspacing,2]), np.sin(poses[::quiverspacing,2]), scale=15, width=5e-3, alpha=0.5)\n",
    "ax.set_xlim([-8,8])\n",
    "ax.set_ylim([-8,8])\n",
    "ax.set_aspect('equal')"
   ]
  },
  {
   "cell_type": "markdown",
   "metadata": {},
   "source": [
    "### Luck Policy\n",
    "1. If see the bay --> Approach\n",
    "2. Else --> Avoid\n",
    "\n",
    "Seeing is defined as:\n",
    "    1. seeing the beacons inview:\n",
    "    2. the beacon yaw and bat yaw are opposite\n",
    "\n",
    "-> Need write 3 functions for this"
   ]
  },
  {
   "cell_type": "code",
   "execution_count": null,
   "metadata": {},
   "outputs": [],
   "source": [
    "#bat_inview_spec = [np.pi/4, 2]\n",
    "#beacon_inview_spec = [np.pi/3, 2]\n",
    "#epsilon=0.5\n",
    "pose = np.copy(bat_pose)\n",
    "render = Render()\n",
    "state = State(pose=pose, dt=1/40)\n",
    "controller = AvoidApproach()\n",
    "poses = np.copy(pose).reshape(1,3)\n",
    "actions = []\n",
    "for _ in range(50000):\n",
    "    compressed = render.run(pose, objects)\n",
    "    docked, cache = Helper.docking_check_with_beacons(pose, beacons)\n",
    "    if docked:\n",
    "        print('DOCKED')\n",
    "        break\n",
    "    if Helper.collision_check(render.cache['inview'], 'plant'):\n",
    "        print('HIT PLANT')\n",
    "        break\n",
    "    if Helper.collision_check(render.cache['inview'], 'pole'):\n",
    "        print('HIT POLE')\n",
    "        break\n",
    "    beacon_in_range, _ =Helper.docking_check_with_beacons(pose, beacons, range=1.5, angle=np.pi/4)\n",
    "    action = 1 if beacon_in_range else 0\n",
    "    actions.append(action)\n",
    "    v, omega = controller.get_kinematic(compressed,approach_factor=action)\n",
    "    state.update_kinematic(kinematic=[v, omega])\n",
    "    state.update_pose()\n",
    "    pose = state.pose\n",
    "    poses = np.vstack((poses, pose.reshape(1,3)))\n",
    "\n",
    "actions = np.asarray(actions)"
   ]
  },
  {
   "cell_type": "code",
   "execution_count": null,
   "metadata": {},
   "outputs": [],
   "source": [
    "quiverspacing=50\n",
    "fig, ax = plt.subplots(dpi=100)\n",
    "ax.scatter(objects[objects[:,2]==2][:,0], objects[objects[:,2]==2][:,1], c='g', s=100)\n",
    "ax.scatter(objects[objects[:,2]==1][:,0], objects[objects[:,2]==1][:,1], c='k', s=20)\n",
    "ax.plot(poses[:,0], poses[:,1], linewidth=1, alpha=0.5)\n",
    "ax.scatter(poses[np.where(actions==1)][:,0],poses[np.where(actions==1)][:,1], c='r', s=10, alpha=0.5)\n",
    "\n",
    "ax.quiver(poses[::quiverspacing,0], poses[::quiverspacing,1], np.cos(poses[::quiverspacing,2]), np.sin(poses[::quiverspacing,2]), scale=15, width=5e-3, alpha=0.5)\n",
    "ax.set_xlim([-8,8])\n",
    "ax.set_ylim([-8,8])\n",
    "ax.set_aspect('equal')"
   ]
  },
  {
   "cell_type": "markdown",
   "metadata": {},
   "source": [
    "## Test different locomotion mode here with a single beacon"
   ]
  },
  {
   "cell_type": "code",
   "execution_count": null,
   "metadata": {},
   "outputs": [],
   "source": [
    "class NewController(Avoid):\n",
    "    def __init__(self, background=None, **kwargs):\n",
    "        super().__init__(background)\n",
    "        self.steer_damper = controlconfig.APPROACH_STEER_DAMPING\n",
    "        self.approach_factor = 0 if 'approach_factor' not in kwargs.keys() else kwargs['approach_factor']\n",
    "        self.tracked_IID = 0 if 'tracked_IID' not in kwargs.keys() else kwargs['tracked_IID']\n",
    "\n",
    "\n",
    "    def get_kinematic(self, input_echoes, approach_factor=None, tracked_IID=None):\n",
    "        if approach_factor is not None: self.approach_factor = approach_factor\n",
    "        if tracked_IID is not None: self.tracked_IID = tracked_IID\n",
    "        cues = self.get_cues(input_echoes)\n",
    "        v = self._get_linear_velocity(cues)\n",
    "        omega = self._get_angular_velocity(cues, v=v)\n",
    "        self.kine_cache.update({'v': v, 'omega': omega})\n",
    "        return v, omega\n",
    "\n",
    "\n",
    "    def _get_angular_velocity(self, cues,v=None):\n",
    "        iid = cues['IID']\n",
    "        if v is None:\n",
    "            v = self._get_linear_velocity(cues)\n",
    "        turning_radius = self._calc_turning_radius(iid, v, cues['onset_distance'])\n",
    "        omega = self._calc_angular_velocity(v, turning_radius)\n",
    "        if np.abs(omega) > self.max_angular_velocity:\n",
    "            omega = np.sign(omega)*self.max_angular_velocity\n",
    "        return self._angular_accel_cap(omega)\n",
    "    \n",
    "\n",
    "    def _calc_angular_velocity(self, v, R):\n",
    "        if R!=0: return v/R\n",
    "        else: return controlconfig.MAX_ANGULAR_VELOCITY\n",
    "\n",
    "    \n",
    "    def _calc_turning_radius(self, iid, v, onset_distance):\n",
    "        R_min = np.power(v,2) / self.centri_accel\n",
    "        A = self.approach_factor\n",
    "        scaled_IID = (iid - self.tracked_IID) / (self.steer_damper - np.sign(iid - self.tracked_IID)*self.tracked_IID)\n",
    "        scaled_IID = np.sign(iid - self.tracked_IID) if np.abs(scaled_IID)>1 else scaled_IID\n",
    "        approach_term = -np.sign(iid - self.tracked_IID)*(np.log(np.abs(scaled_IID))-R_min) if scaled_IID!= 0 else sys.float_info.max\n",
    "        scaled_onset = (onset_distance)/np.max(sensorconfig.COMPRESSED_DISTANCE_ENCODING)\n",
    "        scaled_onset = 1 if scaled_onset>1 else scaled_onset\n",
    "        avoid_term = -np.sign(iid)*(R_min - np.log(1-scaled_onset)) if scaled_onset<1 else sys.float_info.max\n",
    "        if onset_distance < self.B*self.body_radius:\n",
    "            avoid_term = np.sign(self.kine_cache['omega'])*np.abs(avoid_term)\n",
    "        #self.cache['approach_term'] = approach_term\n",
    "        #self.cache['avoid_term'] = avoid_term\n",
    "        \n",
    "        return A*approach_term + (1-A)*avoid_term"
   ]
  },
  {
   "cell_type": "code",
   "execution_count": null,
   "metadata": {},
   "outputs": [],
   "source": [
    "beacons = np.asarray([0,2,-np.pi/2], dtype=np.float32).reshape(1,3)\n",
    "bat_pose = np.asarray([0,0, np.pi/2], dtype=np.float32).reshape(3,)\n",
    "objects = Helper.beacons2objects(beacons=beacons)\n",
    "def outbound(pose, limit=5.):\n",
    "    if (np.sum(np.power(pose[:2],2))>limit**2): return True\n",
    "    else: return False\n"
   ]
  },
  {
   "cell_type": "code",
   "execution_count": null,
   "metadata": {},
   "outputs": [],
   "source": [
    "beacons = np.asarray([0,0,-np.pi/2], dtype=np.float32).reshape(1,3)\n",
    "\n",
    "objects = Helper.beacons2objects(beacons=beacons)\n",
    "xls = np.arange(-1.4,1.5,0.1)\n",
    "yls = np.arange(0,-1.5,-0.1)\n",
    "als = np.asarray([5,6,7,8,9,10,11,12,13],dtype=np.float32)*(np.pi/18)\n",
    "docked_list = []\n",
    "undocked_list=[]\n",
    "for a in als:\n",
    "    for y in yls:\n",
    "        for x in xls:\n",
    "            pose = np.asarray([x,y,a], dtype=np.float32)\n",
    "            if Helper.dockingCheck(pose,beacons): docked_list.append(pose) #, beacon_range=0.8, beacon_fov=np.pi/3, facing_fov=6*np.pi/18\n",
    "            else: undocked_list.append(pose)\n",
    "\n",
    "docked_list = np.asarray(docked_list).reshape(-1,3)\n",
    "undocked_list = np.asarray(undocked_list).reshape(-1,3)"
   ]
  },
  {
   "cell_type": "code",
   "execution_count": null,
   "metadata": {},
   "outputs": [],
   "source": [
    "fig, ax = plt.subplots(1,2, dpi=100, figsize=(10,5))\n",
    "ax[0].scatter(objects[objects[:,2]==2][:,0], objects[objects[:,2]==2][:,1], c='g', s=100)\n",
    "ax[0].scatter(objects[objects[:,2]==1][:,0], objects[objects[:,2]==1][:,1], c='k', s=20)\n",
    "ax[1].scatter(objects[objects[:,2]==2][:,0], objects[objects[:,2]==2][:,1], c='g', s=100)\n",
    "ax[1].scatter(objects[objects[:,2]==1][:,0], objects[objects[:,2]==1][:,1], c='k', s=20)\n",
    "ax[0].set_xlim([-2,2])\n",
    "ax[0].set_ylim([-1.5,0.5])\n",
    "ax[0].set_aspect('equal')\n",
    "ax[1].set_xlim([-2,2])\n",
    "ax[1].set_ylim([-1.5,0.5])\n",
    "ax[1].set_aspect('equal')\n",
    "\n",
    "ax[0].quiver(docked_list[:,0], docked_list[:,1], \n",
    "            np.cos(docked_list[:,2]), np.sin(docked_list[:,2]), \n",
    "            scale=10, width=1e-3, alpha=0.5)\n",
    "ax[1].quiver(undocked_list[:,0], undocked_list[:,1], \n",
    "            np.cos(undocked_list[:,2]), np.sin(undocked_list[:,2]), \n",
    "            scale=10, width=1e-3, alpha=0.5)"
   ]
  },
  {
   "cell_type": "code",
   "execution_count": null,
   "metadata": {},
   "outputs": [],
   "source": [
    "import time\n",
    "def evaluate_approach_space():\n",
    "    xls = np.arange(-5.,5.2,0.2)\n",
    "    yls = np.arange(-0.5,-7.2,-.2)\n",
    "    als = np.arange(0.,19., 1.)*(np.pi/18)\n",
    "    poses = np.empty((len(xls)*len(yls)*len(als),3))\n",
    "    scores = np.empty(len(xls)*len(yls)*len(als))\n",
    "    c=-1\n",
    "    for i,a in enumerate(als):\n",
    "        for j,y in enumerate(yls):\n",
    "            for k,x in enumerate(xls):\n",
    "                c+=1\n",
    "                init_pose = np.asarray([x,y,a], dtype=np.float32)\n",
    "                poses[c] = init_pose\n",
    "                if ((x<=-2)and(y>=-2)) or ((x>=2)and(y>=-2)):\n",
    "                    scores[c]=0.\n",
    "                    continue\n",
    "                score = 0\n",
    "                for _ in range(10):\n",
    "                    outcome = run_one_approach_episode(init_pose, objects, outbound, time_limit=300)\n",
    "                    score += 1 if outcome=='docked' else 0\n",
    "                score /= 10\n",
    "                #print('idx=[{0},{1},{2}]'.format(i,j,k),'pose='+str(np.round(init_pose,2)), 'score{0}'.format(score), 'elapse={0}s'.format(np.round(time.time()-tic,2)))\n",
    "                scores[c]=score\n",
    "        print('Progress={0}/{1}'.format(i+1,len(als)))\n",
    "\n",
    "    return scores, poses\n",
    "\n",
    "\n",
    "def run_one_approach_episode(init_pose, objects, outbound_function, time_limit=1000):\n",
    "    controller = AvoidApproach(approach_factor=1)\n",
    "    render = Render()\n",
    "    pose = np.copy(init_pose)\n",
    "    state = State(pose=pose, dt=1/40)\n",
    "    for _ in range(time_limit):\n",
    "        compressed = render.run(pose, objects)\n",
    "        docked = Helper.dockingCheck(pose, beacons)\n",
    "        if docked: return 'docked'\n",
    "        if Helper.collision_check(render.cache['inview'], 'plant'): return 'hit'\n",
    "        if Helper.collision_check(render.cache['inview'], 'pole'): return 'hit'\n",
    "        if outbound_function(pose): return 'out'\n",
    "        v, omega = controller.get_kinematic(compressed, approach_factor=1)\n",
    "        state.update_kinematic(kinematic=[v, omega])\n",
    "        state.update_pose()\n",
    "        pose = state.pose\n",
    "    return 'out'\n"
   ]
  },
  {
   "cell_type": "code",
   "execution_count": null,
   "metadata": {},
   "outputs": [],
   "source": [
    "scores_matrix, poses_matrix = evaluate_approach_space()"
   ]
  },
  {
   "cell_type": "code",
   "execution_count": null,
   "metadata": {},
   "outputs": [],
   "source": [
    "np.savez('data.npz', scores = scores_matrix, poses=poses_matrix)"
   ]
  },
  {
   "cell_type": "code",
   "execution_count": null,
   "metadata": {},
   "outputs": [],
   "source": [
    "!git add data.npz\n",
    "!git commit -m \"update data\"\n",
    "!git push\n"
   ]
  },
  {
   "cell_type": "code",
   "execution_count": null,
   "metadata": {},
   "outputs": [],
   "source": [
    "fig, ax = plt.subplots(dpi=150)\n",
    "ax.scatter(objects[objects[:,2]==2][:,0], objects[objects[:,2]==2][:,1], c='g', s=150)\n",
    "ax.scatter(objects[objects[:,2]==1][:,0], objects[objects[:,2]==1][:,1], c='k', s=30)\n",
    "#ax.scatter(poses_matrix[scores_matrix==1.0][:,0], poses_matrix[scores_matrix==1.0][:,1], c='r', s=10, alpha=0.5)\n",
    "#ax.scatter(poses_matrix[scores_matrix==0.][:,0], poses_matrix[scores_matrix==0.][:,1], c='y', s=10, alpha=0.2)\n",
    "#ax.scatter(poses[np.where(actions==1)][:,0],poses[np.where(actions==1)][:,1], c='r', s=10, alpha=0.5)\n",
    "cond = scores_matrix<1\n",
    "ax.scatter(poses_matrix[cond][:,0],poses_matrix[cond][:,1], c='r', s=1, alpha=0.05)\n",
    "ax.quiver(poses_matrix[cond][:,0],poses_matrix[cond][:,1], np.cos(poses_matrix[cond][:,2]), np.sin(poses_matrix[cond][:,2]),\n",
    "          scale=50, width=5e-3, color='r', alpha=0.05)\n",
    "#cond = scores_matrix==0.\n",
    "#ax.scatter(poses_matrix[cond][:,0],pose>0\n",
    "ax.set_aspect('equal')"
   ]
  },
  {
   "cell_type": "code",
   "execution_count": null,
   "metadata": {},
   "outputs": [],
   "source": [
    "data = np.load(\"data.npz\")\n",
    "scores_matrix = data['scores']\n",
    "poses_matrix = data['poses']"
   ]
  },
  {
   "cell_type": "code",
   "execution_count": null,
   "metadata": {},
   "outputs": [],
   "source": [
    "fig, ax = plt.subplots(4,1,dpi=100, figsize=(5,12))\n",
    "\n",
    "#ax.scatter(poses_matrix[scores_matrix==1.0][:,0], poses_matrix[scores_matrix==1.0][:,1], c='r', s=10, alpha=0.5)\n",
    "#ax.scatter(poses_matrix[scores_matrix==0.][:,0], poses_matrix[scores_matrix==0.][:,1], c='y', s=10, alpha=0.2)\n",
    "#ax.scatter(poses[np.where(actions==1)][:,0],poses[np.where(actions==1)][:,1], c='r', s=10, alpha=0.5)\n",
    "cond = scores_matrix==1\n",
    "ax[0].hist2d(poses_matrix[cond][:,0],poses_matrix[cond][:,1], range=[[-5,5],[-5.5,0.5]], cmin=0.0, cmap='Reds',\n",
    "              bins=15, density=True)\n",
    "ax[1].scatter(poses_matrix[cond][:,0],poses_matrix[cond][:,1], c=scores_matrix[cond], cmap='Greys', s=1, alpha=0.1)\n",
    "ax[1].quiver(poses_matrix[cond][:,0],poses_matrix[cond][:,1], np.cos(poses_matrix[cond][:,2]), np.sin(poses_matrix[cond][:,2]),\n",
    "          #scores_matrix[cond], cmap='hot',\n",
    "          scale=25, width=3e-3, color='g', alpha=0.1)\n",
    "cond = (scores_matrix>0.5) * (scores_matrix<1)\n",
    "ax[2].scatter(poses_matrix[cond][:,0],poses_matrix[cond][:,1], c=scores_matrix[cond], cmap='Greys', s=1, alpha=0.1)\n",
    "ax[2].quiver(poses_matrix[cond][:,0],poses_matrix[cond][:,1], np.cos(poses_matrix[cond][:,2]), np.sin(poses_matrix[cond][:,2]),\n",
    "          #scores_matrix[cond], cmap='hot',\n",
    "          scale=25, width=3e-3, color='b', alpha=0.1)\n",
    "cond = (scores_matrix>0) * (scores_matrix<=0.5)\n",
    "ax[3].scatter(poses_matrix[cond][:,0],poses_matrix[cond][:,1], c=scores_matrix[cond], cmap='Greys', s=1, alpha=0.1)\n",
    "ax[3].quiver(poses_matrix[cond][:,0],poses_matrix[cond][:,1], np.cos(poses_matrix[cond][:,2]), np.sin(poses_matrix[cond][:,2]),\n",
    "          #scores_matrix[cond], cmap='hot',\n",
    "          scale=25, width=3e-3, color='r', alpha=0.1)\n",
    "#cond = scores_matrix==0.\n",
    "#ax.scatter(poses_matrix[cond][:,0],poses_matrix[cond][:,1], s=10, c='y', alpha=0.01)\n",
    "#ax.quiver(poses_matrix[cond][:,0],poses_matrix[cond][:,1], np.cos(poses_matrix[cond][:,2]), np.sin(poses_matrix[cond][:,2]),\n",
    "#          scale=20, width=3e-3, color='y', alpha=0.02)\n",
    "#ax.quiver(poses[::quiverspacing,0], poses[::quiverspacing,1], np.cos(poses[::quiverspacing,2]), np.sin(poses[::quiverspacing,2]), scale=15, width=5e-3, alpha=0.5)\n",
    "for a in ax:\n",
    "    a.scatter(objects[objects[:,2]==2][:,0], objects[objects[:,2]==2][:,1], c='g', s=150)\n",
    "    a.scatter(objects[objects[:,2]==1][:,0], objects[objects[:,2]==1][:,1], c='k', s=30)\n",
    "    a.set_xlim([-5,5])\n",
    "    a.set_ylim([-5.5,0.5])\n",
    "    a.set_aspect('equal')"
   ]
  },
  {
   "cell_type": "code",
   "execution_count": null,
   "metadata": {},
   "outputs": [],
   "source": [
    "scores_matrix"
   ]
  },
  {
   "cell_type": "code",
   "execution_count": null,
   "metadata": {},
   "outputs": [],
   "source": []
  },
  {
   "cell_type": "code",
   "execution_count": null,
   "metadata": {},
   "outputs": [],
   "source": []
  },
  {
   "cell_type": "code",
   "execution_count": null,
   "metadata": {},
   "outputs": [],
   "source": []
  },
  {
   "cell_type": "code",
   "execution_count": null,
   "metadata": {},
   "outputs": [],
   "source": [
    "pose = np.asarray([0, -1, np.pi/2]).reshape(3,)\n",
    "controller = AvoidApproach(approach_factor=1)\n",
    "render = Render()\n",
    "state = State(pose=pose, dt=1/40)\n",
    "poses = []\n",
    "for _ in range(200):\n",
    "    compressed = render.run(pose, objects)\n",
    "    docked = Helper.dockingCheck(pose, beacons)\n",
    "    if docked:\n",
    "        print('DOCKED')\n",
    "        break\n",
    "    if Helper.collision_check(render.cache['inview'], 'plant'): \n",
    "        print('hit plant')\n",
    "        break\n",
    "    if Helper.collision_check(render.cache['inview'], 'pole'):\n",
    "        print('hit pole')\n",
    "        break\n",
    "    if outbound(pose):\n",
    "        print('out')\n",
    "        break\n",
    "    v, omega = controller.get_kinematic(compressed, approach_factor=1)\n",
    "    state.update_kinematic(kinematic=[v, omega])\n",
    "    state.update_pose()\n",
    "    pose = state.pose\n",
    "    poses.append(pose)\n",
    "poses = np.asarray(poses)"
   ]
  },
  {
   "cell_type": "code",
   "execution_count": null,
   "metadata": {},
   "outputs": [],
   "source": [
    "quiverspacing=50\n",
    "fig, ax = plt.subplots(dpi=100)\n",
    "ax.scatter(objects[objects[:,2]==2][:,0], objects[objects[:,2]==2][:,1], c='g', s=100)\n",
    "ax.scatter(objects[objects[:,2]==1][:,0], objects[objects[:,2]==1][:,1], c='k', s=20)\n",
    "ax.plot(poses[:,0], poses[:,1], linewidth=1, alpha=0.5)\n",
    "#ax.scatter(poses[np.where(actions==1)][:,0],poses[np.where(actions==1)][:,1], c='r', s=10, alpha=0.5)\n",
    "\n",
    "ax.quiver(poses[::quiverspacing,0], poses[::quiverspacing,1], np.cos(poses[::quiverspacing,2]), np.sin(poses[::quiverspacing,2]), scale=15, width=5e-3, alpha=0.5)\n",
    "ax.set_xlim([-6,6])\n",
    "ax.set_ylim([-6,6])\n",
    "ax.set_aspect('equal')"
   ]
  },
  {
   "cell_type": "code",
   "execution_count": null,
   "metadata": {},
   "outputs": [],
   "source": []
  },
  {
   "cell_type": "code",
   "execution_count": null,
   "metadata": {},
   "outputs": [],
   "source": [
    "pose = np.copy(bat_pose)\n",
    "render = Render()\n",
    "#state = State(pose=pose, dt=1/40)\n",
    "#controller = NewController(tracked_IID=0.)\n",
    "poses = np.copy(pose).reshape(1,3)\n",
    "actions = []\n",
    "iids = []\n",
    "vs=[]\n",
    "omegas=[]\n",
    "for x in range(1000):\n",
    "    compressed = render.run(pose, objects)\n",
    "    docked = Helper.dockingCheck(pose, beacons)\n",
    "    if docked:\n",
    "        print('DOCKED')\n",
    "        break\n",
    "    if Helper.collision_check(render.cache['inview'], 'plant'):\n",
    "        print('HIT PLANT')\n",
    "        break\n",
    "    if Helper.collision_check(render.cache['inview'], 'pole'):\n",
    "        print('HIT POLE')\n",
    "        break\n",
    "    if outbound(pose):\n",
    "        print('OUT')\n",
    "        break\n",
    "    action = 1\n",
    "    actions.append(action)\n",
    "    v, omega = controller.get_kinematic(compressed, approach_factor=action)\n",
    "    vs.append(v)\n",
    "    omegas.append(omega)\n",
    "    iids.append(controller.cache['IID'])\n",
    "    state.update_kinematic(kinematic=[v, omega])\n",
    "    state.update_pose()\n",
    "    pose = state.pose\n",
    "    poses = np.vstack((poses, pose.reshape(1,3)))\n",
    "\n",
    "actions = np.asarray(actions)"
   ]
  },
  {
   "cell_type": "code",
   "execution_count": null,
   "metadata": {},
   "outputs": [],
   "source": [
    "quiverspacing=50\n",
    "fig, ax = plt.subplots(dpi=100)\n",
    "ax.scatter(objects[objects[:,2]==2][:,0], objects[objects[:,2]==2][:,1], c='g', s=100)\n",
    "ax.scatter(objects[objects[:,2]==1][:,0], objects[objects[:,2]==1][:,1], c='k', s=20)\n",
    "ax.plot(poses[:,0], poses[:,1], linewidth=1, alpha=0.5)\n",
    "#ax.scatter(poses[np.where(actions==1)][:,0],poses[np.where(actions==1)][:,1], c='r', s=10, alpha=0.5)\n",
    "\n",
    "ax.quiver(poses[::quiverspacing,0], poses[::quiverspacing,1], np.cos(poses[::quiverspacing,2]), np.sin(poses[::quiverspacing,2]), scale=15, width=5e-3, alpha=0.5)\n",
    "ax.set_xlim([-6,6])\n",
    "ax.set_ylim([-6,6])\n",
    "ax.set_aspect('equal')"
   ]
  },
  {
   "cell_type": "code",
   "execution_count": null,
   "metadata": {},
   "outputs": [],
   "source": [
    "plt.plot(iids, alpha=0.8, label='IID')\n",
    "plt.plot(omegas, alpha=0.8, label='oemgas')\n",
    "plt.legend()\n"
   ]
  },
  {
   "cell_type": "code",
   "execution_count": null,
   "metadata": {},
   "outputs": [],
   "source": []
  }
 ],
 "metadata": {
  "kernelspec": {
   "display_name": "Python 3.8.11 ('EchoGymRL')",
   "language": "python",
   "name": "python3"
  },
  "language_info": {
   "codemirror_mode": {
    "name": "ipython",
    "version": 3
   },
   "file_extension": ".py",
   "mimetype": "text/x-python",
   "name": "python",
   "nbconvert_exporter": "python",
   "pygments_lexer": "ipython3",
   "version": "3.8.11"
  },
  "orig_nbformat": 4,
  "vscode": {
   "interpreter": {
    "hash": "22cdd9daae71d395913b577f46eaa8d75c0fdc0c5d5d1e1269fe15100cecd137"
   }
  }
 },
 "nbformat": 4,
 "nbformat_minor": 2
}
