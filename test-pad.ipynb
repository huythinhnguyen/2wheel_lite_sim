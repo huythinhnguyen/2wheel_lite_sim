{
 "cells": [
  {
   "cell_type": "code",
   "execution_count": null,
   "id": "f7c92fc0",
   "metadata": {},
   "outputs": [],
   "source": [
    "%matplotlib notebook"
   ]
  },
  {
   "cell_type": "code",
   "execution_count": null,
   "id": "0de67015",
   "metadata": {},
   "outputs": [],
   "source": [
    "import numpy as np\n",
    "from matplotlib import pyplot as plt\n",
    "from Control import DubinsPath"
   ]
  },
  {
   "cell_type": "code",
   "execution_count": null,
   "id": "715e11f1",
   "metadata": {},
   "outputs": [],
   "source": [
    "start_pose = np.array([7.0,15.0, 3*np.pi/4])\n",
    "goal_pose = np.array([5., 8.0, -np.pi/3])\n",
    "min_turn_radius = 15.0\n",
    "course, inter_poses, _,_ = DubinsPath.generate_course(start_pose, goal_pose, min_turn_radius, speed=0.5, dt=0.5)"
   ]
  },
  {
   "cell_type": "code",
   "execution_count": null,
   "id": "59da810b",
   "metadata": {},
   "outputs": [],
   "source": [
    "from Animation import Render"
   ]
  },
  {
   "cell_type": "code",
   "execution_count": null,
   "id": "6666c2f3",
   "metadata": {},
   "outputs": [],
   "source": [
    "animation = Render.Sequences(figsize=5)"
   ]
  },
  {
   "cell_type": "code",
   "execution_count": null,
   "id": "7ee43db2",
   "metadata": {},
   "outputs": [],
   "source": [
    "walls = np.hstack((20*np.random.rand(200)-10, 20*np.random.rand(200)-10)).reshape(200,2)\n",
    "foods = np.ones((int(len(course)/2),2)) * 0.0\n",
    "foods = np.vstack((foods, np.ones((int(1+len(course)/2),2))* (-5.0)))"
   ]
  },
  {
   "cell_type": "code",
   "execution_count": null,
   "id": "2f99d0dd",
   "metadata": {},
   "outputs": [],
   "source": [
    "objects = {'agent': course, 'plant': walls, 'food': foods}"
   ]
  },
  {
   "cell_type": "code",
   "execution_count": null,
   "id": "58c72dfc",
   "metadata": {},
   "outputs": [],
   "source": [
    "animation.render(objects, repeat=True, show=True, fps=120)"
   ]
  },
  {
   "cell_type": "code",
   "execution_count": null,
   "id": "f0ead6a6",
   "metadata": {},
   "outputs": [],
   "source": [
    "import os\n",
    "filepath = os.path.join(os.getcwd(), '../..')\n",
    "#animation.save(filename='test_vid_07.28.22',filepath = filepath, reset=False)\n",
    "image.save(filename='test_img_07.28.22',filepath=filepath, reset=False)"
   ]
  },
  {
   "cell_type": "code",
   "execution_count": null,
   "id": "5a2c06fe",
   "metadata": {},
   "outputs": [],
   "source": [
    "image = Render.StillImage(figsize=5)"
   ]
  },
  {
   "cell_type": "code",
   "execution_count": null,
   "id": "79ffce17",
   "metadata": {},
   "outputs": [],
   "source": [
    "image.render(objects)"
   ]
  },
  {
   "cell_type": "code",
   "execution_count": null,
   "id": "e67108dc",
   "metadata": {},
   "outputs": [],
   "source": []
  },
  {
   "cell_type": "code",
   "execution_count": null,
   "id": "ce097639",
   "metadata": {},
   "outputs": [],
   "source": [
    "def build_walls(starts, ends, spacings):\n",
    "    return walls\n",
    "\n",
    "\n",
    "def build_archs(starts, ends, radiuses, spacing):\n",
    "    return archs\n",
    "\n",
    "\n",
    "def build_circles(centers, radiuses, spacing):\n",
    "    return circles"
   ]
  },
  {
   "cell_type": "code",
   "execution_count": null,
   "id": "c8b77e09",
   "metadata": {},
   "outputs": [],
   "source": []
  },
  {
   "cell_type": "code",
   "execution_count": null,
   "id": "ae5883ed",
   "metadata": {},
   "outputs": [],
   "source": []
  },
  {
   "cell_type": "code",
   "execution_count": null,
   "id": "301c80c1",
   "metadata": {},
   "outputs": [],
   "source": []
  }
 ],
 "metadata": {
  "kernelspec": {
   "display_name": "Python 3",
   "language": "python",
   "name": "python3"
  },
  "language_info": {
   "codemirror_mode": {
    "name": "ipython",
    "version": 3
   },
   "file_extension": ".py",
   "mimetype": "text/x-python",
   "name": "python",
   "nbconvert_exporter": "python",
   "pygments_lexer": "ipython3",
   "version": "3.8.11"
  }
 },
 "nbformat": 4,
 "nbformat_minor": 5
}
