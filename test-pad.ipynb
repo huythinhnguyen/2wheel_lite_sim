{
 "cells": [
  {
   "cell_type": "code",
   "execution_count": 1,
   "id": "f7c92fc0",
   "metadata": {},
   "outputs": [],
   "source": [
    "%matplotlib notebook"
   ]
  },
  {
   "cell_type": "code",
   "execution_count": 2,
   "id": "0de67015",
   "metadata": {},
   "outputs": [],
   "source": [
    "import numpy as np\n",
    "from matplotlib import pyplot as plt\n",
    "from Control import DubinsPath"
   ]
  },
  {
   "cell_type": "code",
   "execution_count": null,
   "id": "715e11f1",
   "metadata": {},
   "outputs": [],
   "source": [
    "start_pose = np.array([7.0,15.0, 3*np.pi/4])\n",
    "goal_pose = np.array([5., 8.0, -np.pi/3])\n",
    "min_turn_radius = 15.0\n",
    "course, inter_poses, _,_ = DubinsPath.generate_course(start_pose, goal_pose, min_turn_radius, speed=0.5, dt=0.5)"
   ]
  },
  {
   "cell_type": "code",
   "execution_count": null,
   "id": "59da810b",
   "metadata": {},
   "outputs": [],
   "source": [
    "from Animation import Render"
   ]
  },
  {
   "cell_type": "code",
   "execution_count": null,
   "id": "6666c2f3",
   "metadata": {},
   "outputs": [],
   "source": [
    "animation = Render.Sequences(figsize=5)"
   ]
  },
  {
   "cell_type": "code",
   "execution_count": null,
   "id": "7ee43db2",
   "metadata": {},
   "outputs": [],
   "source": [
    "walls = np.hstack((20*np.random.rand(200)-10, 20*np.random.rand(200)-10)).reshape(200,2)\n",
    "foods = np.ones((int(len(course)/2),2)) * 0.0\n",
    "foods = np.vstack((foods, np.ones((int(1+len(course)/2),2))* (-5.0)))"
   ]
  },
  {
   "cell_type": "code",
   "execution_count": null,
   "id": "2f99d0dd",
   "metadata": {},
   "outputs": [],
   "source": [
    "objects = {'agent': course, 'plant': walls, 'food': foods}"
   ]
  },
  {
   "cell_type": "code",
   "execution_count": null,
   "id": "58c72dfc",
   "metadata": {},
   "outputs": [],
   "source": [
    "animation.render(objects, repeat=True, show=True, fps=120)"
   ]
  },
  {
   "cell_type": "code",
   "execution_count": null,
   "id": "f0ead6a6",
   "metadata": {},
   "outputs": [],
   "source": [
    "import os\n",
    "filepath = os.path.join(os.getcwd(), '../..')\n",
    "#animation.save(filename='test_vid_07.28.22',filepath = filepath, reset=False)\n",
    "image.save(filename='test_img_07.28.22',filepath=filepath, reset=False)"
   ]
  },
  {
   "cell_type": "code",
   "execution_count": null,
   "id": "5a2c06fe",
   "metadata": {},
   "outputs": [],
   "source": [
    "image = Render.StillImage(figsize=5)"
   ]
  },
  {
   "cell_type": "code",
   "execution_count": null,
   "id": "79ffce17",
   "metadata": {},
   "outputs": [],
   "source": [
    "image.render(objects)"
   ]
  },
  {
   "cell_type": "code",
   "execution_count": null,
   "id": "e67108dc",
   "metadata": {},
   "outputs": [],
   "source": []
  },
  {
   "cell_type": "code",
   "execution_count": 45,
   "id": "ce097639",
   "metadata": {},
   "outputs": [],
   "source": [
    "def build_walls(starts, ends, spacings):\n",
    "    walls = np.array([]).reshape(0,2)\n",
    "    for (start, end, spacing) in zip(starts, ends, spacings):\n",
    "        walls = np.vstack((walls, build_wall(start, end, spacing)))\n",
    "    return walls\n",
    "\n",
    "\n",
    "def build_wall(start, end, spacing):\n",
    "    x0, y0 = start\n",
    "    x1, y1 = end\n",
    "    alpha = np.arctan2(y1-y0, x1-x0)\n",
    "    sx = spacing * np.cos(alpha)\n",
    "    sy = spacing * np.sin(alpha)\n",
    "    xls = np.arange(x0,x1,sx) if x0!=x1 else np.array([])\n",
    "    yls = np.arange(y0,y1,sy) if y0!=y1 else np.array([])\n",
    "    if len(xls) + len(yls) == 0:\n",
    "        wall = start.reshape(-1,2)\n",
    "        return wall\n",
    "    elif len(xls) == 0 and len(yls) != 0 :\n",
    "        xls = x0*np.ones(len(yls))\n",
    "    elif len(yls) == 0 and len(xls) != 0 :\n",
    "        yls = y0*np.ones(len(xls))\n",
    "    wall = np.hstack((xls.reshape(-1,1),yls.reshape(-1,1))).reshape(-1,2)\n",
    "    return wall"
   ]
  },
  {
   "cell_type": "code",
   "execution_count": null,
   "id": "41bc1cfb",
   "metadata": {},
   "outputs": [],
   "source": [
    "def build_circle(center, radius, spacing):\n",
    "    \n",
    "    return circle"
   ]
  },
  {
   "cell_type": "code",
   "execution_count": null,
   "id": "310af8fa",
   "metadata": {},
   "outputs": [],
   "source": []
  },
  {
   "cell_type": "code",
   "execution_count": null,
   "id": "bbabdd0d",
   "metadata": {},
   "outputs": [],
   "source": []
  },
  {
   "cell_type": "code",
   "execution_count": 70,
   "id": "c8b77e09",
   "metadata": {},
   "outputs": [],
   "source": [
    "starts = np.array([[0.,5.],\n",
    "                   [-5.,0.],\n",
    "                   [0.,-5.],\n",
    "                   [5.,0.],\n",
    "                   [0.,3.],\n",
    "                   [-3.,0.],\n",
    "                   [0.,-3.],\n",
    "                   [3.,0.]]\n",
    "                   )\n",
    "ends   = np.array([[-5.,0.],\n",
    "                   [0.,-5.],\n",
    "                   [5.,0.],\n",
    "                   [0.,5.],\n",
    "                   [-3.,0.],\n",
    "                   [0.,-3.],\n",
    "                   [3.,0.],\n",
    "                   [0.,3.]]\n",
    "                 )\n",
    "spacings = 0.2*np.ones(len(ends))\n",
    "\n",
    "walls = build_walls(starts, ends, spacings)"
   ]
  },
  {
   "cell_type": "code",
   "execution_count": null,
   "id": "5bf2cc08",
   "metadata": {},
   "outputs": [],
   "source": []
  }
 ],
 "metadata": {
  "kernelspec": {
   "display_name": "Python 3",
   "language": "python",
   "name": "python3"
  },
  "language_info": {
   "codemirror_mode": {
    "name": "ipython",
    "version": 3
   },
   "file_extension": ".py",
   "mimetype": "text/x-python",
   "name": "python",
   "nbconvert_exporter": "python",
   "pygments_lexer": "ipython3",
   "version": "3.8.11"
  }
 },
 "nbformat": 4,
 "nbformat_minor": 5
}
