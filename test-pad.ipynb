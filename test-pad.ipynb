{
 "cells": [
  {
   "cell_type": "code",
   "execution_count": 2,
   "id": "0ae87bf9",
   "metadata": {},
   "outputs": [
    {
     "ename": "SyntaxError",
     "evalue": "invalid syntax (<ipython-input-2-331c86914ec9>, line 13)",
     "output_type": "error",
     "traceback": [
      "\u001b[0;36m  File \u001b[0;32m\"<ipython-input-2-331c86914ec9>\"\u001b[0;36m, line \u001b[0;32m13\u001b[0m\n\u001b[0;31m    'abs_min_turning_radius': 0.0,\u001b[0m\n\u001b[0m    ^\u001b[0m\n\u001b[0;31mSyntaxError\u001b[0m\u001b[0;31m:\u001b[0m invalid syntax\n"
     ]
    }
   ],
   "source": [
    "import numpy as np\n",
    "from Simulation.Motion import State, GPS, Drive\n",
    "from matplotlib import pyplot as plt\n",
    "\n",
    "bot_spec = {'wheelbase': 0.235,\n",
    "            'wheel_velocity_range': [-0.5,0.5], # m/s, [min max]\n",
    "            'min_wheel_speed': 0.0,\n",
    "            'wheel_diameter': 0.072,\n",
    "            'body_radius': 0.175,\n",
    "            'wheelbase_offset': 0.0,\n",
    "            'wheel_velocity_var': 0.0,r\n",
    "            #'steering_var': 1e-3, # not yet implemented\n",
    "            'abs_min_turning_radius': 0.0,\n",
    "            'L2R_bias_mean': 1.0,                                                                                                                                             \n",
    "            'L2R_bias_var': 0.0,                                                                                                                                              \n",
    "            'velo_var': 0.0,                                                                                                                                                 \n",
    "            'heading_offset_mean': 0.0,                                                                                                                                  \n",
    "            'heading_offset_var': 0.0}\n",
    "%matplotlib inline"
   ]
  },
  {
   "cell_type": "code",
   "execution_count": 9,
   "id": "f7c92fc0",
   "metadata": {},
   "outputs": [],
   "source": [
    "%matplotlib inline"
   ]
  },
  {
   "cell_type": "code",
   "execution_count": null,
   "id": "750af88f",
   "metadata": {},
   "outputs": [],
   "source": []
  },
  {
   "cell_type": "code",
   "execution_count": null,
   "id": "8ad81932",
   "metadata": {},
   "outputs": [],
   "source": []
  },
  {
   "cell_type": "code",
   "execution_count": 3,
   "id": "0de67015",
   "metadata": {},
   "outputs": [],
   "source": [
    "import numpy as np\n",
    "from matplotlib import pyplot as plt\n",
    "from Control import DubinsPath"
   ]
  },
  {
   "cell_type": "code",
   "execution_count": 180,
   "id": "715e11f1",
   "metadata": {},
   "outputs": [],
   "source": [
    "start_pose = np.array([0.0,0.0, 0.0])\n",
    "goal_pose = np.array([-15., 5., 0.0])\n",
    "min_turn_radius = 2.0\n",
    "\n",
    "course, inter_poses, _,_ = DubinsPath.generate_course(start_pose, goal_pose, min_turn_radius, speed=0.1, dt=0.1)"
   ]
  },
  {
   "cell_type": "code",
   "execution_count": 181,
   "id": "84719a19",
   "metadata": {},
   "outputs": [
    {
     "name": "stdout",
     "output_type": "stream",
     "text": [
      "558.0 543.6\n",
      "26.685788472205587\n"
     ]
    },
    {
     "data": {
      "image/png": "[encoded data removed]",
      "text/plain": [
       "<Figure size 720x720 with 1 Axes>"
      ]
     },
     "metadata": {
      "needs_background": "light"
     },
     "output_type": "display_data"
    }
   ],
   "source": [
    "checkpoints = np.vstack((start_pose, \n",
    "                         inter_poses['A'],\n",
    "                         inter_poses['B'], \n",
    "                         goal_pose\n",
    "                        ))\n",
    "\n",
    "fig, ax = plt.subplots(figsize=(10,10))\n",
    "ax.plot(course[:,0], course[:,1])\n",
    "arrow_length = 1\n",
    "bbox = ax.get_window_extent()\n",
    "print(bbox.width, bbox.height)\n",
    "\n",
    "yrange = ax.get_ylim()[1] - ax.get_ylim()[0]\n",
    "xrange = ax.get_xlim()[1] - ax.get_xlim()[0]\n",
    "\n",
    "scale = ax.get_window_extent().width/xrange\n",
    "print(scale)\n",
    "ax.scatter(checkpoints[:,0], checkpoints[:,1], s=0.7*scale)\n",
    "ax.quiver(checkpoints[:,0],checkpoints[:,1],\n",
    "           arrow_length*np.cos(checkpoints[:,2]),arrow_length*np.sin(checkpoints[:,2]),\n",
    "           pivot='tail',scale_units='xy',scale=1.0,width=0.007*arrow_length,color='b')\n",
    "ax.set_aspect('equal')"
   ]
  },
  {
   "cell_type": "code",
   "execution_count": 109,
   "id": "7e26fff0",
   "metadata": {},
   "outputs": [
    {
     "ename": "AttributeError",
     "evalue": "'AxesSubplot' object has no attribute 'get_yrange'",
     "output_type": "error",
     "traceback": [
      "\u001b[0;31m---------------------------------------------------------------------------\u001b[0m",
      "\u001b[0;31mAttributeError\u001b[0m                            Traceback (most recent call last)",
      "\u001b[0;32m<ipython-input-109-bea3ba6ddc7a>\u001b[0m in \u001b[0;36m<module>\u001b[0;34m\u001b[0m\n\u001b[0;32m----> 1\u001b[0;31m \u001b[0max\u001b[0m\u001b[0;34m.\u001b[0m\u001b[0mget_yrange\u001b[0m\u001b[0;34m(\u001b[0m\u001b[0;34m)\u001b[0m\u001b[0;34m\u001b[0m\u001b[0;34m\u001b[0m\u001b[0m\n\u001b[0m",
      "\u001b[0;31mAttributeError\u001b[0m: 'AxesSubplot' object has no attribute 'get_yrange'"
     ]
    }
   ],
   "source": [
    "ax.get_yrange()"
   ]
  },
  {
   "cell_type": "code",
   "execution_count": null,
   "id": "508fb9ae",
   "metadata": {},
   "outputs": [],
   "source": []
  },
  {
   "cell_type": "code",
   "execution_count": null,
   "id": "9a122247",
   "metadata": {},
   "outputs": [],
   "source": []
  },
  {
   "cell_type": "code",
   "execution_count": null,
   "id": "2a629aba",
   "metadata": {},
   "outputs": [],
   "source": []
  },
  {
   "cell_type": "code",
   "execution_count": null,
   "id": "5f59d1e2",
   "metadata": {},
   "outputs": [],
   "source": []
  },
  {
   "cell_type": "code",
   "execution_count": null,
   "id": "9b294537",
   "metadata": {},
   "outputs": [],
   "source": []
  },
  {
   "cell_type": "markdown",
   "id": "cd138989",
   "metadata": {},
   "source": [
    "## Self-corrected Dubins Path with noisy GPS"
   ]
  },
  {
   "cell_type": "markdown",
   "id": "4a4b8def",
   "metadata": {},
   "source": [
    "### 1. Dubins Path Planning"
   ]
  },
  {
   "cell_type": "code",
   "execution_count": null,
   "id": "994f1a83",
   "metadata": {},
   "outputs": [],
   "source": [
    "from math import sin, cos, atan2, sqrt, acos, pi, hypot"
   ]
  },
  {
   "cell_type": "code",
   "execution_count": null,
   "id": "017da481",
   "metadata": {},
   "outputs": [],
   "source": [
    "def wrap_to_pi(a):\n",
    "    if a >= pi:\n",
    "        a -= 2*pi\n",
    "    elif a < -pi:\n",
    "        a += 2*pi\n",
    "    return a"
   ]
  },
  {
   "cell_type": "code",
   "execution_count": null,
   "id": "5a62da00",
   "metadata": {},
   "outputs": [],
   "source": [
    "def plan(start_pose, goal_pose, min_turn_radius, selected_path_types=None):\n",
    "    if selected_path_types is None:\n",
    "        path_funcs = _DUBINS_PATH_TYPES.values()\n",
    "    else:\n",
    "        path_funcs = [_DUBINS_PATH_TYPES[path_type] for path_type in selected_path_types]\n",
    "    best_cost = float('inf')\n",
    "    best_inter_poses, best_modes = None, None\n",
    "    for plan in path_funcs:\n",
    "        inter_poses, distances, modes = plan(start_pose, goal_pose, min_turn_radius)\n",
    "        cost = sum(distances)\n",
    "        if best_cost > cost:\n",
    "            best_inter_poses, best_distances, best_modes, best_cost = inter_poses, distances, modes, cost\n",
    "\n",
    "    return best_inter_poses, best_distances, best_modes\n",
    "          \n",
    "    \n",
    "def _LSL(start_pose, goal_pose, min_turn_radius):\n",
    "    modes = ['L','S','L']    \n",
    "    r = min_turn_radius\n",
    "    C1 = start_pose[:2] + r*np.array([cos(start_pose[2]+pi/2),sin(start_pose[2]+pi/2)])\n",
    "    C2 = goal_pose[:2] + r*np.array([cos(goal_pose[2]+pi/2), sin(goal_pose[2]+pi/2)])\n",
    "    yaw_C2C1 = atan2(C2[1]-C1[1], C2[0]-C1[0])\n",
    "    A = C1 + r*np.array([cos(yaw_C2C1 - pi/2), sin(yaw_C2C1 - pi/2)])\n",
    "    B = C2 + r*np.array([cos(yaw_C2C1 - pi/2), sin(yaw_C2C1 - pi/2)])\n",
    "    A_pose = np.append(A, yaw_C2C1)\n",
    "    B_pose = np.append(B, yaw_C2C1)\n",
    "    \n",
    "    theta1 = abs(wrap_to_pi(A_pose[2]-start_pose[2]))\n",
    "    theta1 = 2*pi - theta1 if wrap_to_pi(A_pose[2]-start_pose[2]) < 0 else theta1\n",
    "    #theta2 = 0.0\n",
    "    theta3 =  abs(wrap_to_pi(goal_pose[2]-B_pose[2]))\n",
    "    theta3 = 2*pi - theta3 if wrap_to_pi(goal_pose[2]-B_pose[2]) < 0 else theta3\n",
    "    \n",
    "    d1 = theta1*r\n",
    "    d2 = hypot(B[1]-A[1], B[0]-A[0])\n",
    "    d3 = theta3*r\n",
    "    \n",
    "    inter_poses = {'A': A_pose, 'B': B_pose}\n",
    "    distances = [d1,d2,d3]\n",
    "    \n",
    "    return inter_poses, distances, modes, \n",
    "\n",
    "def _LSR(start_pose, goal_pose, min_turn_radius):\n",
    "    modes = ['L','S','R']    \n",
    "    r = min_turn_radius\n",
    "    C1 = start_pose[:2] + r*np.array([cos(start_pose[2]+pi/2),sin(start_pose[2]+pi/2)])\n",
    "    C2 = goal_pose[:2] + r*np.array([cos(goal_pose[2]-pi/2), sin(goal_pose[2]-pi/2)])\n",
    "    yaw_C2C1 = atan2(C2[1]-C1[1], C2[0]-C1[0])\n",
    "    \n",
    "    alpha = acos(2*r/ hypot(C2[1]-C1[1], C2[0]-C1[0]))\n",
    "    \n",
    "    A = C1 + r*np.array([cos(yaw_C2C1 - alpha), sin(yaw_C2C1 - alpha)])\n",
    "    B = C2 + r*np.array([cos(yaw_C2C1 - alpha + pi), sin(yaw_C2C1 +  - alpha + pi)])\n",
    "    A_pose = np.append(A, wrap_to_pi(yaw_C2C1 - alpha + pi/2))\n",
    "    B_pose = np.append(B, wrap_to_pi(yaw_C2C1 - alpha + pi/2))\n",
    "    \n",
    "    \n",
    "    theta1 = abs(wrap_to_pi(A_pose[2]-start_pose[2]))\n",
    "    theta1 = 2*pi - theta1 if wrap_to_pi(A_pose[2]-start_pose[2]) < 0 else theta1\n",
    "    #theta2 = 0.0\n",
    "    theta3 =  abs(wrap_to_pi(goal_pose[2]-B_pose[2]))\n",
    "    theta3 = 2*pi - theta3 if wrap_to_pi(goal_pose[2]-B_pose[2]) > 0 else theta3\n",
    "    \n",
    "    d1 = theta1*r\n",
    "    d2 = hypot(B[1]-A[1], B[0]-A[0])\n",
    "    d3 = theta3*r\n",
    "    \n",
    "    inter_poses = {'A': A_pose, 'B': B_pose}\n",
    "    distances = [d1,d2,d3]\n",
    "    \n",
    "    return inter_poses, distances, modes, \n",
    "\n",
    "\n",
    "def _RSL(start_pose, goal_pose, min_turn_radius):\n",
    "    modes = ['R','S','L']    \n",
    "    r = min_turn_radius\n",
    "    C1 = start_pose[:2] + r*np.array([cos(start_pose[2]-pi/2),sin(start_pose[2]-pi/2)])\n",
    "    C2 = goal_pose[:2] + r*np.array([cos(goal_pose[2]+pi/2), sin(goal_pose[2]+pi/2)])\n",
    "    yaw_C2C1 = atan2(C2[1]-C1[1], C2[0]-C1[0])\n",
    "    \n",
    "    alpha = acos(2*r/ hypot(C2[1]-C1[1], C2[0]-C1[0]))\n",
    "    \n",
    "    A = C1 + r*np.array([cos(yaw_C2C1 + alpha), sin(yaw_C2C1 + alpha)])\n",
    "    B = C2 + r*np.array([cos(yaw_C2C1 + alpha - pi), sin(yaw_C2C1 + alpha - pi)])\n",
    "    A_pose = np.append(A, wrap_to_pi(yaw_C2C1 + alpha - pi/2))\n",
    "    B_pose = np.append(B, wrap_to_pi(yaw_C2C1 + alpha - pi/2))\n",
    "    \n",
    "    \n",
    "    theta1 = abs(wrap_to_pi(A_pose[2]-start_pose[2]))\n",
    "    theta1 = 2*pi - theta1 if wrap_to_pi(A_pose[2]-start_pose[2]) > 0 else theta1\n",
    "    #theta2 = 0.0\n",
    "    theta3 =  abs(wrap_to_pi(goal_pose[2]-B_pose[2]))\n",
    "    theta3 = 2*pi - theta3 if wrap_to_pi(goal_pose[2]-B_pose[2]) < 0 else theta3\n",
    "    \n",
    "    d1 = theta1*r\n",
    "    d2 = hypot(B[1]-A[1], B[0]-A[0])\n",
    "    d3 = theta3*r\n",
    "    \n",
    "    inter_poses = {'A': A_pose, 'B': B_pose}\n",
    "    distances = [d1,d2,d3]\n",
    "    \n",
    "    return inter_poses, distances, modes, \n",
    "\n",
    "\n",
    "def _RSR(start_pose, goal_pose, min_turn_radius):\n",
    "    modes = ['R','S','R']\n",
    "    r = min_turn_radius\n",
    "    C1 = start_pose[:2] + r*np.array([cos(start_pose[2]-pi/2),sin(start_pose[2]-pi/2)])\n",
    "    C2 = goal_pose[:2] + r*np.array([cos(goal_pose[2]-pi/2), sin(goal_pose[2]-pi/2)])\n",
    "    yaw_C2C1 = atan2(C2[1]-C1[1], C2[0]-C1[0])\n",
    "    A = C1 + r*np.array([cos(yaw_C2C1 + pi/2), sin(yaw_C2C1 + pi/2)])\n",
    "    B = C2 + r*np.array([cos(yaw_C2C1 + pi/2), sin(yaw_C2C1 + pi/2)])\n",
    "    A_pose = np.append(A, yaw_C2C1)\n",
    "    B_pose = np.append(B, yaw_C2C1)\n",
    "    \n",
    "    theta1 = abs(wrap_to_pi(A_pose[2]-start_pose[2]))\n",
    "    theta1 = 2*pi - theta1 if wrap_to_pi(A_pose[2]-start_pose[2]) > 0 else theta1\n",
    "    #theta2 = 0.0\n",
    "    theta3 =  abs(wrap_to_pi(goal_pose[2]-B_pose[2]))\n",
    "    theta3 = 2*pi - theta3 if wrap_to_pi(goal_pose[2]-B_pose[2]) > 0 else theta3\n",
    "    \n",
    "    d1 = theta1*r\n",
    "    d2 = hypot(B[1]-A[1], B[0]-A[0])\n",
    "    d3 = theta3*r\n",
    "    \n",
    "    inter_poses = {'A': A_pose, 'B': B_pose}\n",
    "    distances = [d1,d2,d3]\n",
    "    \n",
    "    return inter_poses, distances, modes\n",
    "\n",
    "\n",
    "_DUBINS_PATH_TYPES = {'LSL': _LSL, 'LSR': _LSR, 'RSL': _RSL, 'RSR': _RSR, }\n",
    "\n",
    "\n",
    "    \n",
    "    "
   ]
  },
  {
   "cell_type": "code",
   "execution_count": null,
   "id": "d7c40c06",
   "metadata": {},
   "outputs": [],
   "source": [
    "start_pose = np.array([0.0,0.0, -pi/2])\n",
    "goal_pose = np.array([-5., 10.5, -3*pi/4])\n",
    "min_turn_radius = 2.0\n",
    "inter_poses, distances, modes = plan(start_pose = start_pose, goal_pose = goal_pose, min_turn_radius=min_turn_radius)"
   ]
  },
  {
   "cell_type": "code",
   "execution_count": null,
   "id": "b13fdae6",
   "metadata": {},
   "outputs": [],
   "source": [
    "print(inter_poses)\n",
    "print(distances)\n",
    "print(modes)"
   ]
  },
  {
   "cell_type": "code",
   "execution_count": null,
   "id": "5eb9f6c4",
   "metadata": {},
   "outputs": [],
   "source": [
    "def generate_course(start_pose, distances, modes, min_turn_radius, speed=0.1, dt=0.01):\n",
    "    state = State(pose=start_pose, kinematic = [speed, 0.0], dt=dt)\n",
    "    course = start_pose.reshape(1,3)\n",
    "    w = speed/min_turn_radius\n",
    "    for i in range(3):\n",
    "        dist = 0\n",
    "        while dist < distances[i]:\n",
    "            omega = w if modes[i]=='L' else -w if modes[i]=='R' else 0.0\n",
    "            state.update_kinematic(new_w = omega)\n",
    "            state.update_pose()\n",
    "            dist += min_turn_radius*w*dt\n",
    "            course = np.vstack((poses, state.pose))\n",
    "    return course\n",
    "    "
   ]
  },
  {
   "cell_type": "code",
   "execution_count": null,
   "id": "c141255a",
   "metadata": {
    "scrolled": true
   },
   "outputs": [],
   "source": [
    "poses = generate_path(start_pose, distances=distances, modes=modes, min_turn_radius=min_turn_radius)"
   ]
  },
  {
   "cell_type": "code",
   "execution_count": null,
   "id": "2dedc3ba",
   "metadata": {
    "scrolled": true
   },
   "outputs": [],
   "source": [
    "checkpoints = np.vstack((start_pose, \n",
    "                         inter_poses['A'], \n",
    "                         inter_poses['B'], \n",
    "                         goal_pose\n",
    "                        ))\n",
    "\n",
    "fig, ax = plt.subplots(figsize=(5,5))\n",
    "ax.plot(poses[:,0], poses[:,1])\n",
    "\n",
    "ax.scatter(checkpoints[:,0],checkpoints[:,1])\n",
    "ax.quiver(checkpoints[:,0],checkpoints[:,1],\n",
    "           0.175*np.cos(checkpoints[:,2]),0.175*np.sin(checkpoints[:,2]),\n",
    "           pivot='tail',scale_units='xy',scale=0.15,width=0.01,color='b')\n",
    "ax.set_aspect('equal')"
   ]
  },
  {
   "cell_type": "code",
   "execution_count": null,
   "id": "d666ee48",
   "metadata": {},
   "outputs": [],
   "source": [
    "distances"
   ]
  },
  {
   "cell_type": "code",
   "execution_count": null,
   "id": "1545c53d",
   "metadata": {},
   "outputs": [],
   "source": []
  },
  {
   "cell_type": "code",
   "execution_count": null,
   "id": "59ca3162",
   "metadata": {},
   "outputs": [],
   "source": []
  },
  {
   "cell_type": "code",
   "execution_count": null,
   "id": "06a595d3",
   "metadata": {},
   "outputs": [],
   "source": []
  },
  {
   "cell_type": "code",
   "execution_count": null,
   "id": "9ce8bfb1",
   "metadata": {},
   "outputs": [],
   "source": []
  },
  {
   "cell_type": "code",
   "execution_count": null,
   "id": "df1597f7",
   "metadata": {},
   "outputs": [],
   "source": [
    "state2 = State(pose=[0.0,0.0,0.0], kinematic = [0.1, 0.0], dt = 0.5)"
   ]
  },
  {
   "cell_type": "code",
   "execution_count": null,
   "id": "6467cbbd",
   "metadata": {},
   "outputs": [],
   "source": [
    "state2.reset()"
   ]
  },
  {
   "cell_type": "code",
   "execution_count": null,
   "id": "7cde1ba8",
   "metadata": {},
   "outputs": [],
   "source": [
    "state2.reset()\n",
    "sim_len = 500\n",
    "poses = np.zeros((sim_len,3))\n",
    "Rs = np.zeros(sim_len)\n",
    "ICCs = np.zeros((sim_len,2))\n",
    "kinematics = np.zeros((sim_len,2))\n",
    "for i in range(sim_len):\n",
    "    kinematics[i] = np.array(state2.kinematic)\n",
    "    Rs[i] = state2.turning_radius()\n",
    "    ICCs[i] = np.array(state2.ICC())\n",
    "    state2.update_pose()\n",
    "    poses[i] = state2.pose\n",
    "    if i>91 and i<110:\n",
    "        state2.update_kinematic(new_w = np.pi/18)\n",
    "    elif i>182 and i<219:\n",
    "        state2.update_kinematic(new_w = np.pi/36)\n",
    "    elif i>300 and i<310:\n",
    "        state2.update_kinematic(new_w = np.pi/9)\n",
    "    elif i>400 and i<418:\n",
    "        state2.update_kinematic(new_w = np.pi/17)\n",
    "    else:\n",
    "        state2.update_kinematic(new_w = 0.0)\n",
    "        "
   ]
  },
  {
   "cell_type": "code",
   "execution_count": null,
   "id": "0d9920ab",
   "metadata": {},
   "outputs": [],
   "source": [
    "state = State(pose=[0.0,0.0,0.0], kinematic = [0.1, 0.0], dt = 0.5)\n",
    "gps = GPS(pose = [0.0, 0.0, 0.0], noise = True, mode='create', custom_spec=bot_spec)\n",
    "drive = Drive(custom=True,custom_spec=bot_spec,noise=True)"
   ]
  },
  {
   "cell_type": "code",
   "execution_count": null,
   "id": "14d65ada",
   "metadata": {},
   "outputs": [],
   "source": [
    "state.reset()\n",
    "drive.reset()\n",
    "sim_len = len(kinematics)\n",
    "poses_hat = np.zeros((sim_len,3))\n",
    "kinematics_hat = np.zeros((sim_len,2))\n",
    "state2.pose = gps.pose_hat\n",
    "poses2_hat = np.zeros((sim_len,3))\n",
    "for i, kine in enumerate(kinematics):\n",
    "    drive.kinematic_update(kine)\n",
    "    #print(kine)\n",
    "    #print(drive.kinematic)\n",
    "    state.update_kinematic(drive.kinematic)\n",
    "    state.update_pose()\n",
    "    gps.update(state.pose)\n",
    "    poses_hat[i]=state.pose\n",
    "    poses2_hat[i]=gps.pose_hat\n",
    "    kinematics_hat[i]=state.kinematic\n",
    "    "
   ]
  },
  {
   "cell_type": "code",
   "execution_count": null,
   "id": "78af64ce",
   "metadata": {
    "scrolled": true
   },
   "outputs": [],
   "source": [
    "fig, ax = plt.subplots(figsize=(5,5))\n",
    "ax.plot(poses[:,0], poses[:,1])\n",
    "ax.plot(poses_hat[:,0], poses_hat[:,1])\n",
    "ax.plot(poses2_hat[:,0], poses2_hat[:,1])\n",
    "ax.set_aspect('equal')\n"
   ]
  },
  {
   "cell_type": "code",
   "execution_count": null,
   "id": "a5817a26",
   "metadata": {},
   "outputs": [],
   "source": [
    "%matplotlib notebook"
   ]
  },
  {
   "cell_type": "code",
   "execution_count": null,
   "id": "9662d417",
   "metadata": {},
   "outputs": [],
   "source": [
    "fig, ax = plt.subplots(figsize=(5,5))\n",
    "\n",
    "plt.quiver(poses_hat[:,0],poses_hat[:,1],\n",
    "           0.175*np.cos(poses_hat[:,2]),0.175*np.sin(poses_hat[:,2]),\n",
    "           pivot='tail',scale_units='xy',scale=0.5,width=0.01,color='b',alpha=0.5)\n",
    "plt.quiver(poses2_hat[:,0],poses2_hat[:,1],\n",
    "           0.175*np.cos(poses2_hat[:,2]),0.175*np.sin(poses2_hat[:,2]),\n",
    "           pivot='tail',scale_units='xy',scale=1,width=0.01,color='g',alpha=0.5)\n",
    "ax.set_aspect('equal')\n"
   ]
  },
  {
   "cell_type": "code",
   "execution_count": null,
   "id": "1d471563",
   "metadata": {},
   "outputs": [],
   "source": []
  },
  {
   "cell_type": "code",
   "execution_count": null,
   "id": "dcb38382",
   "metadata": {},
   "outputs": [],
   "source": [
    "poses2_hat"
   ]
  },
  {
   "cell_type": "code",
   "execution_count": null,
   "id": "bdf8354a",
   "metadata": {},
   "outputs": [],
   "source": [
    "fig, ax = plt.subplots(1,2,figsize=(5,5))\n",
    "ax[0].plot(kinematics[:,0])\n",
    "ax[0].plot(kinematics_hat[:,0])\n",
    "ax[1].plot(kinematics[:,1])\n",
    "ax[1].plot(kinematics_hat[:,1])\n"
   ]
  },
  {
   "cell_type": "code",
   "execution_count": null,
   "id": "ab95836f",
   "metadata": {},
   "outputs": [],
   "source": [
    "members = [attr for attr in vars(drive.bot) if not callable(getattr(drive.bot, attr)) and not attr.startswith(\"__\")]\n",
    "print(members)"
   ]
  },
  {
   "cell_type": "code",
   "execution_count": null,
   "id": "fe489a69",
   "metadata": {},
   "outputs": [],
   "source": [
    "for attr in members:\n",
    "    print(attr,'\\t|\\t', getattr(drive.bot, attr))"
   ]
  },
  {
   "cell_type": "code",
   "execution_count": null,
   "id": "62f603d0",
   "metadata": {},
   "outputs": [],
   "source": []
  },
  {
   "cell_type": "code",
   "execution_count": null,
   "id": "9820f3aa",
   "metadata": {},
   "outputs": [],
   "source": []
  },
  {
   "cell_type": "code",
   "execution_count": null,
   "id": "6666c2f3",
   "metadata": {},
   "outputs": [],
   "source": []
  }
 ],
 "metadata": {
  "kernelspec": {
   "display_name": "Python 3",
   "language": "python",
   "name": "python3"
  },
  "language_info": {
   "codemirror_mode": {
    "name": "ipython",
    "version": 3
   },
   "file_extension": ".py",
   "mimetype": "text/x-python",
   "name": "python",
   "nbconvert_exporter": "python",
   "pygments_lexer": "ipython3",
   "version": "3.8.11"
  }
 },
 "nbformat": 4,
 "nbformat_minor": 5
}
